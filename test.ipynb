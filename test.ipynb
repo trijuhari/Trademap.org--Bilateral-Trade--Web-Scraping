{
 "cells": [
  {
   "cell_type": "code",
   "execution_count": 148,
   "metadata": {
    "ExecuteTime": {
     "end_time": "2021-08-23T12:53:01.332594Z",
     "start_time": "2021-08-23T12:52:49.470629Z"
    }
   },
   "outputs": [],
   "source": [
    "#find kode negara \n",
    "\n",
    "from selenium import webdriver\n",
    "from selenium.common.exceptions import NoSuchElementException\n",
    "from selenium.webdriver.common.keys import Keys\n",
    "from bs4 import BeautifulSoup\n",
    "\n",
    "browser = webdriver.Firefox()\n",
    "browser.get('https://www.trademap.org/Bilateral_TS.aspx?nvpm=1|360||156||TOTAL|||2|1|1|1|2|1|1|1||1')\n",
    "html_source = browser.page_source\n",
    "browser.quit()\n",
    "\n",
    "soup = BeautifulSoup(html_source,'html.parser')\n",
    "#class \"postText\" is not defined in the source code\n",
    "comments = soup.findAll('option')\n",
    "\n",
    "kode = []\n",
    "dct= {}\n",
    "for option in soup.find_all('option'):\n",
    "    dct[option.text] = option['value']\n",
    "    kode.append(option['value'])\n",
    "kode = kode[113:366]"
   ]
  },
  {
   "cell_type": "code",
   "execution_count": 149,
   "metadata": {
    "ExecuteTime": {
     "end_time": "2021-08-23T12:53:11.238556Z",
     "start_time": "2021-08-23T12:53:11.233529Z"
    }
   },
   "outputs": [],
   "source": [
    "kode_negara = {}\n",
    "for  key, value in dct.items():\n",
    "    if value in  kode:\n",
    "        kode_negara[key] = value"
   ]
  },
  {
   "cell_type": "code",
   "execution_count": 143,
   "metadata": {
    "ExecuteTime": {
     "end_time": "2021-08-23T10:24:50.371094Z",
     "start_time": "2021-08-23T10:24:50.366954Z"
    }
   },
   "outputs": [
    {
     "data": {
      "text/plain": [
       "'360'"
      ]
     },
     "execution_count": 143,
     "metadata": {},
     "output_type": "execute_result"
    }
   ],
   "source": [
    "kode_negara['Indonesia']"
   ]
  },
  {
   "cell_type": "code",
   "execution_count": 5,
   "metadata": {
    "ExecuteTime": {
     "end_time": "2021-08-23T04:57:51.027581Z",
     "start_time": "2021-08-23T04:57:51.009967Z"
    }
   },
   "outputs": [
    {
     "data": {
      "text/plain": [
       "'360'"
      ]
     },
     "execution_count": 5,
     "metadata": {},
     "output_type": "execute_result"
    }
   ],
   "source": [
    "dct['Indonesia']"
   ]
  },
  {
   "cell_type": "code",
   "execution_count": 22,
   "metadata": {
    "ExecuteTime": {
     "end_time": "2021-08-23T05:20:06.243203Z",
     "start_time": "2021-08-23T05:20:06.236901Z"
    }
   },
   "outputs": [
    {
     "data": {
      "text/plain": [
       "'004'"
      ]
     },
     "execution_count": 22,
     "metadata": {},
     "output_type": "execute_result"
    }
   ],
   "source": [
    "dct['Afghanistan']"
   ]
  },
  {
   "cell_type": "markdown",
   "metadata": {},
   "source": [
    "# Import "
   ]
  },
  {
   "cell_type": "code",
   "execution_count": 150,
   "metadata": {
    "ExecuteTime": {
     "end_time": "2021-08-23T12:53:20.932849Z",
     "start_time": "2021-08-23T12:53:20.929287Z"
    }
   },
   "outputs": [],
   "source": [
    "from selenium import webdriver\n",
    "from selenium.common.exceptions import NoSuchElementException\n",
    "from selenium.webdriver.common.keys import Keys\n",
    "from bs4 import BeautifulSoup\n",
    "from selenium.webdriver.support.ui import Select\n",
    "import time \n"
   ]
  },
  {
   "cell_type": "code",
   "execution_count": 151,
   "metadata": {
    "ExecuteTime": {
     "end_time": "2021-08-23T12:53:53.273542Z",
     "start_time": "2021-08-23T12:53:24.058064Z"
    },
    "pycharm": {
     "name": "#%%\n"
    }
   },
   "outputs": [],
   "source": [
    "\n",
    "browser = webdriver.Firefox()\n",
    "browser.get(f\"https://www.trademap.org/Bilateral_TS.aspx?nvpm=1|{dct['Afghanistan']}||{dct['Albania']}||TOTAL|||2|1|1|1|2|1|1|1|1|1\")\n",
    "time.sleep(3)\n",
    "\n",
    "select = Select(browser.find_element_by_id('ctl00_PageContent_GridViewPanelControl_DropDownList_NumTimePeriod'))\n",
    "select.select_by_value('5')\n",
    " \n",
    "time.sleep(3)\n",
    "select = Select(browser.find_element_by_id('ctl00_PageContent_GridViewPanelControl_DropDownList_PageSize'))\n",
    "select.select_by_value('300')\n",
    " \n",
    "time.sleep(7)\n",
    "html_source = browser.page_source\n",
    "\n",
    "browser.quit()\n",
    "\n",
    "soup = BeautifulSoup(html_source,'html.parser')\n",
    "\n",
    "#class \"postText\" is not defined in the source code\n",
    "data_import = soup.findAll('td',{'class':['tabContent']})\n"
   ]
  },
  {
   "cell_type": "code",
   "execution_count": 152,
   "metadata": {
    "ExecuteTime": {
     "end_time": "2021-08-23T12:53:56.421014Z",
     "start_time": "2021-08-23T12:53:56.416218Z"
    }
   },
   "outputs": [],
   "source": [
    "import pandas as pd "
   ]
  },
  {
   "cell_type": "markdown",
   "metadata": {
    "ExecuteTime": {
     "end_time": "2021-08-22T17:15:35.653277Z",
     "start_time": "2021-08-22T17:15:35.646732Z"
    }
   },
   "source": [
    "# Make Dataframe"
   ]
  },
  {
   "cell_type": "markdown",
   "metadata": {},
   "source": [
    "0,20 =  product code \n",
    "1,21 = product label \n",
    "2,22 = 2016\n",
    "3,23 = 2017\n",
    "4,24 = 2018\n",
    "5,25 = 2019\n",
    "6,26 = 2020"
   ]
  },
  {
   "cell_type": "code",
   "execution_count": 153,
   "metadata": {
    "ExecuteTime": {
     "end_time": "2021-08-23T12:54:01.353011Z",
     "start_time": "2021-08-23T12:54:01.333082Z"
    },
    "pycharm": {
     "name": "#%%\n"
    },
    "scrolled": false
   },
   "outputs": [],
   "source": [
    "\n",
    "web = []\n",
    "for item in data_import:\n",
    "    tdTags = item.find_all(\"tr\")\n",
    "no = 1\n",
    "for item in tdTags:\n",
    "    asi = item.find_all(\"td\")\n",
    "    for asii in asi :\n",
    "            #print(no , asii.text)\n",
    "            #product_code.append(asii.text.strip())\n",
    "        web.append(asii.text.strip())\n",
    "        no+= 1\n",
    "\n"
   ]
  },
  {
   "cell_type": "code",
   "execution_count": 154,
   "metadata": {
    "ExecuteTime": {
     "end_time": "2021-08-23T12:54:05.036481Z",
     "start_time": "2021-08-23T12:54:05.033112Z"
    },
    "scrolled": false
   },
   "outputs": [],
   "source": [
    "web = web[24:]"
   ]
  },
  {
   "cell_type": "code",
   "execution_count": 155,
   "metadata": {
    "ExecuteTime": {
     "end_time": "2021-08-23T12:54:07.744474Z",
     "start_time": "2021-08-23T12:54:07.733981Z"
    }
   },
   "outputs": [],
   "source": [
    "m = len(web)\n",
    "n =20\n",
    "\n",
    "product_code =[]\n",
    "product_label = []\n",
    "value_2016 =[]\n",
    "value_2017 =[]\n",
    "value_2018 =[]\n",
    "value_2019=[]\n",
    "value_2020=[]\n",
    "\n",
    "for i in range (0, m, n ):\n",
    "    #print(web[i])\n",
    "    product_code.append(web[i])\n",
    "    product_label.append(web[i+1])\n",
    "    value_2016.append(web[i+2])\n",
    "    value_2017.append(web[i+3])\n",
    "    value_2018.append(web[i+4])\n",
    "    value_2019.append(web[i+5])\n",
    "    value_2020.append(web[i+6])"
   ]
  },
  {
   "cell_type": "code",
   "execution_count": 156,
   "metadata": {
    "ExecuteTime": {
     "end_time": "2021-08-23T12:54:11.494659Z",
     "start_time": "2021-08-23T12:54:11.489379Z"
    }
   },
   "outputs": [
    {
     "data": {
      "text/plain": [
       "1939"
      ]
     },
     "execution_count": 156,
     "metadata": {},
     "output_type": "execute_result"
    }
   ],
   "source": [
    "len(web)"
   ]
  },
  {
   "cell_type": "code",
   "execution_count": 111,
   "metadata": {
    "ExecuteTime": {
     "end_time": "2021-08-23T06:02:48.850290Z",
     "start_time": "2021-08-23T06:02:48.845233Z"
    }
   },
   "outputs": [
    {
     "data": {
      "text/plain": [
       "97"
      ]
     },
     "execution_count": 111,
     "metadata": {},
     "output_type": "execute_result"
    }
   ],
   "source": [
    "len(value_2016)"
   ]
  },
  {
   "cell_type": "code",
   "execution_count": 157,
   "metadata": {
    "ExecuteTime": {
     "end_time": "2021-08-23T12:54:14.633593Z",
     "start_time": "2021-08-23T12:54:14.624030Z"
    },
    "scrolled": false
   },
   "outputs": [],
   "source": [
    "kolom = ['product_code', 'product_label','2016','2017','2018','2019','2020']\n",
    "df = pd.DataFrame(columns= kolom)\n",
    "df['product_code'] = product_code\n",
    "df['product_label'] = product_label\n",
    "df['2016'] = value_2016\n",
    "df['2017'] = value_2017\n",
    "df['2018'] = value_2018\n",
    "df['2019'] = value_2019\n",
    "df['2020'] = value_2020"
   ]
  },
  {
   "cell_type": "code",
   "execution_count": 159,
   "metadata": {
    "ExecuteTime": {
     "end_time": "2021-08-23T12:54:53.989588Z",
     "start_time": "2021-08-23T12:54:53.985516Z"
    }
   },
   "outputs": [],
   "source": [
    "df.fillna(0, inplace=True)"
   ]
  },
  {
   "cell_type": "code",
   "execution_count": 179,
   "metadata": {
    "ExecuteTime": {
     "end_time": "2021-08-23T13:02:50.274942Z",
     "start_time": "2021-08-23T13:02:50.261771Z"
    }
   },
   "outputs": [
    {
     "data": {
      "text/plain": [
       "0      \n",
       "1      \n",
       "2      \n",
       "3      \n",
       "4      \n",
       "     ..\n",
       "92     \n",
       "93     \n",
       "94     \n",
       "95     \n",
       "96     \n",
       "Name: 2020, Length: 97, dtype: object"
      ]
     },
     "execution_count": 179,
     "metadata": {},
     "output_type": "execute_result"
    }
   ],
   "source": [
    "df['2020']"
   ]
  },
  {
   "cell_type": "markdown",
   "metadata": {
    "ExecuteTime": {
     "end_time": "2021-08-22T17:16:59.449485Z",
     "start_time": "2021-08-22T17:16:59.446666Z"
    }
   },
   "source": [
    "# Export"
   ]
  },
  {
   "cell_type": "code",
   "execution_count": 114,
   "metadata": {
    "ExecuteTime": {
     "end_time": "2021-08-23T06:08:02.015085Z",
     "start_time": "2021-08-23T06:07:29.509761Z"
    }
   },
   "outputs": [],
   "source": [
    " \n",
    "\n",
    "browser = webdriver.Firefox()\n",
    "browser.get(f\"https://www.trademap.org/Bilateral_TS.aspx?nvpm=1|{dct['Indonesia']}||{dct['Albania']}||TOTAL|||2|1|1|2|2|1|1|1|1|1\")\n",
    "time.sleep(3)\n",
    "\n",
    "select = Select(browser.find_element_by_id('ctl00_PageContent_GridViewPanelControl_DropDownList_NumTimePeriod'))\n",
    "select.select_by_value('5')\n",
    " \n",
    "time.sleep(3)\n",
    "select = Select(browser.find_element_by_id('ctl00_PageContent_GridViewPanelControl_DropDownList_PageSize'))\n",
    "select.select_by_value('300')\n",
    " \n",
    "time.sleep(7)\n",
    "html_source = browser.page_source\n",
    "\n",
    "browser.quit()\n",
    "soup = BeautifulSoup(html_source,'html.parser')\n",
    "\n",
    "#class \"postText\" is not defined in the source code\n",
    "data_export = soup.findAll('td',{'class':['tabContent']})"
   ]
  },
  {
   "cell_type": "markdown",
   "metadata": {
    "ExecuteTime": {
     "end_time": "2021-08-22T17:19:40.567445Z",
     "start_time": "2021-08-22T17:19:40.560294Z"
    }
   },
   "source": [
    "# Make Dataframe Export "
   ]
  },
  {
   "cell_type": "code",
   "execution_count": 117,
   "metadata": {
    "ExecuteTime": {
     "end_time": "2021-08-23T06:08:29.713592Z",
     "start_time": "2021-08-23T06:08:29.694083Z"
    }
   },
   "outputs": [],
   "source": [
    "web_export = []\n",
    "for item in data_export:\n",
    "    tdTags = item.find_all(\"tr\")\n",
    "no = 1\n",
    "for item in tdTags:\n",
    "    asi = item.find_all(\"td\")\n",
    "    for asii in asi :\n",
    "            #print(no , asii.text)\n",
    "            #product_code.append(asii.text.strip())\n",
    "        web_export.append(asii.text.strip())\n",
    "        no+= 1\n",
    "\n",
    "        \n"
   ]
  },
  {
   "cell_type": "code",
   "execution_count": 118,
   "metadata": {
    "ExecuteTime": {
     "end_time": "2021-08-23T06:08:31.356509Z",
     "start_time": "2021-08-23T06:08:31.353853Z"
    }
   },
   "outputs": [],
   "source": [
    "web_export = web_export[24:]"
   ]
  },
  {
   "cell_type": "code",
   "execution_count": 119,
   "metadata": {
    "ExecuteTime": {
     "end_time": "2021-08-23T06:08:32.759791Z",
     "start_time": "2021-08-23T06:08:32.751347Z"
    }
   },
   "outputs": [],
   "source": [
    "m = len(web_export)\n",
    "n =20\n",
    "\n",
    "product_code_export =[]\n",
    "product_label_export = []\n",
    "value_2016_export =[]\n",
    "value_2017_export =[]\n",
    "value_2018_export =[]\n",
    "value_2019_export=[]\n",
    "value_2020_export=[]\n",
    "for i in range (0, m, n ):\n",
    "    product_code_export.append(web_export[i])\n",
    "    product_label_export.append(web_export[i+1])\n",
    "    value_2016_export.append(web_export[i+2])\n",
    "    value_2017_export.append(web_export[i+3])\n",
    "    value_2018_export.append(web_export[i+4])\n",
    "    value_2019_export.append(web_export[i+5])\n",
    "    value_2020_export.append(web_export[i+6])"
   ]
  },
  {
   "cell_type": "code",
   "execution_count": 124,
   "metadata": {
    "ExecuteTime": {
     "end_time": "2021-08-23T06:11:07.457478Z",
     "start_time": "2021-08-23T06:11:07.448617Z"
    }
   },
   "outputs": [],
   "source": [
    "kolom = ['product_code', 'product_label','2016','2017','2018','2019','2020']\n",
    "df_export = pd.DataFrame(columns= kolom)\n",
    "df_export['product_code'] = product_code_export\n",
    "df_export['product_label'] = product_label_export\n",
    "df_export['2016'] = value_2016_export\n",
    "df_export['2017'] = value_2017_export\n",
    "df_export['2018'] = value_2018_export\n",
    "df_export['2019'] = value_2019_export\n",
    "df_export['2020'] = value_2020_export"
   ]
  },
  {
   "cell_type": "code",
   "execution_count": 125,
   "metadata": {
    "ExecuteTime": {
     "end_time": "2021-08-23T06:11:10.436926Z",
     "start_time": "2021-08-23T06:11:10.405552Z"
    },
    "scrolled": true
   },
   "outputs": [
    {
     "data": {
      "text/html": [
       "<div>\n",
       "<style scoped>\n",
       "    .dataframe tbody tr th:only-of-type {\n",
       "        vertical-align: middle;\n",
       "    }\n",
       "\n",
       "    .dataframe tbody tr th {\n",
       "        vertical-align: top;\n",
       "    }\n",
       "\n",
       "    .dataframe thead th {\n",
       "        text-align: right;\n",
       "    }\n",
       "</style>\n",
       "<table border=\"1\" class=\"dataframe\">\n",
       "  <thead>\n",
       "    <tr style=\"text-align: right;\">\n",
       "      <th></th>\n",
       "      <th>product_code</th>\n",
       "      <th>product_label</th>\n",
       "      <th>2016</th>\n",
       "      <th>2017</th>\n",
       "      <th>2018</th>\n",
       "      <th>2019</th>\n",
       "      <th>2020</th>\n",
       "    </tr>\n",
       "  </thead>\n",
       "  <tbody>\n",
       "    <tr>\n",
       "      <th>0</th>\n",
       "      <td>47</td>\n",
       "      <td>Pulp of wood or of other fibrous cellulosic ma...</td>\n",
       "      <td>0</td>\n",
       "      <td>0</td>\n",
       "      <td>0</td>\n",
       "      <td>0</td>\n",
       "      <td>0</td>\n",
       "    </tr>\n",
       "    <tr>\n",
       "      <th>1</th>\n",
       "      <td>67</td>\n",
       "      <td>Prepared feathers and down and articles made o...</td>\n",
       "      <td>0</td>\n",
       "      <td>0</td>\n",
       "      <td>0</td>\n",
       "      <td>0</td>\n",
       "      <td>0</td>\n",
       "    </tr>\n",
       "    <tr>\n",
       "      <th>2</th>\n",
       "      <td>95</td>\n",
       "      <td>Toys, games and sports requisites; parts and a...</td>\n",
       "      <td>0</td>\n",
       "      <td>0</td>\n",
       "      <td>0</td>\n",
       "      <td>0</td>\n",
       "      <td>0</td>\n",
       "    </tr>\n",
       "    <tr>\n",
       "      <th>3</th>\n",
       "      <td>96</td>\n",
       "      <td>Miscellaneous manufactured articles</td>\n",
       "      <td>2</td>\n",
       "      <td>0</td>\n",
       "      <td>0</td>\n",
       "      <td>0</td>\n",
       "      <td>0</td>\n",
       "    </tr>\n",
       "    <tr>\n",
       "      <th>4</th>\n",
       "      <td>17</td>\n",
       "      <td>Sugars and sugar confectionery</td>\n",
       "      <td>0</td>\n",
       "      <td>0</td>\n",
       "      <td>0</td>\n",
       "      <td>0</td>\n",
       "      <td>0</td>\n",
       "    </tr>\n",
       "    <tr>\n",
       "      <th>...</th>\n",
       "      <td>...</td>\n",
       "      <td>...</td>\n",
       "      <td>...</td>\n",
       "      <td>...</td>\n",
       "      <td>...</td>\n",
       "      <td>...</td>\n",
       "      <td>...</td>\n",
       "    </tr>\n",
       "    <tr>\n",
       "      <th>92</th>\n",
       "      <td>85</td>\n",
       "      <td>Electrical machinery and equipment and parts t...</td>\n",
       "      <td>2,741</td>\n",
       "      <td>3,097</td>\n",
       "      <td>1,683</td>\n",
       "      <td>2,311</td>\n",
       "      <td>366</td>\n",
       "    </tr>\n",
       "    <tr>\n",
       "      <th>93</th>\n",
       "      <td>03</td>\n",
       "      <td>Fish and crustaceans, molluscs and other aquat...</td>\n",
       "      <td>845</td>\n",
       "      <td>1,230</td>\n",
       "      <td>729</td>\n",
       "      <td>1,015</td>\n",
       "      <td>713</td>\n",
       "    </tr>\n",
       "    <tr>\n",
       "      <th>94</th>\n",
       "      <td>15</td>\n",
       "      <td>Animal or vegetable fats and oils and their cl...</td>\n",
       "      <td>1,145</td>\n",
       "      <td>1,767</td>\n",
       "      <td>1,971</td>\n",
       "      <td>1,151</td>\n",
       "      <td>1,238</td>\n",
       "    </tr>\n",
       "    <tr>\n",
       "      <th>95</th>\n",
       "      <td>16</td>\n",
       "      <td>Preparations of meat, of fish or of crustacean...</td>\n",
       "      <td>1,013</td>\n",
       "      <td>387</td>\n",
       "      <td>1,100</td>\n",
       "      <td>1,740</td>\n",
       "      <td>1,348</td>\n",
       "    </tr>\n",
       "    <tr>\n",
       "      <th>96</th>\n",
       "      <td>48</td>\n",
       "      <td>Paper and paperboard; articles of paper pulp, ...</td>\n",
       "      <td>3,850</td>\n",
       "      <td>2,593</td>\n",
       "      <td>3,275</td>\n",
       "      <td>2,642</td>\n",
       "      <td>2,130</td>\n",
       "    </tr>\n",
       "  </tbody>\n",
       "</table>\n",
       "<p>97 rows × 7 columns</p>\n",
       "</div>"
      ],
      "text/plain": [
       "   product_code                                      product_label   2016  \\\n",
       "0            47  Pulp of wood or of other fibrous cellulosic ma...      0   \n",
       "1            67  Prepared feathers and down and articles made o...      0   \n",
       "2            95  Toys, games and sports requisites; parts and a...      0   \n",
       "3            96                Miscellaneous manufactured articles      2   \n",
       "4            17                     Sugars and sugar confectionery      0   \n",
       "..          ...                                                ...    ...   \n",
       "92           85  Electrical machinery and equipment and parts t...  2,741   \n",
       "93           03  Fish and crustaceans, molluscs and other aquat...    845   \n",
       "94           15  Animal or vegetable fats and oils and their cl...  1,145   \n",
       "95           16  Preparations of meat, of fish or of crustacean...  1,013   \n",
       "96           48  Paper and paperboard; articles of paper pulp, ...  3,850   \n",
       "\n",
       "     2017   2018   2019   2020  \n",
       "0       0      0      0      0  \n",
       "1       0      0      0      0  \n",
       "2       0      0      0      0  \n",
       "3       0      0      0      0  \n",
       "4       0      0      0      0  \n",
       "..    ...    ...    ...    ...  \n",
       "92  3,097  1,683  2,311    366  \n",
       "93  1,230    729  1,015    713  \n",
       "94  1,767  1,971  1,151  1,238  \n",
       "95    387  1,100  1,740  1,348  \n",
       "96  2,593  3,275  2,642  2,130  \n",
       "\n",
       "[97 rows x 7 columns]"
      ]
     },
     "execution_count": 125,
     "metadata": {},
     "output_type": "execute_result"
    }
   ],
   "source": [
    "df_export"
   ]
  }
 ],
 "metadata": {
  "kernelspec": {
   "display_name": "Python 3",
   "language": "python",
   "name": "python3"
  },
  "language_info": {
   "codemirror_mode": {
    "name": "ipython",
    "version": 3
   },
   "file_extension": ".py",
   "mimetype": "text/x-python",
   "name": "python",
   "nbconvert_exporter": "python",
   "pygments_lexer": "ipython3",
   "version": "3.7.7"
  },
  "toc": {
   "base_numbering": 1,
   "nav_menu": {},
   "number_sections": true,
   "sideBar": true,
   "skip_h1_title": false,
   "title_cell": "Table of Contents",
   "title_sidebar": "Contents",
   "toc_cell": false,
   "toc_position": {},
   "toc_section_display": true,
   "toc_window_display": false
  }
 },
 "nbformat": 4,
 "nbformat_minor": 1
}
