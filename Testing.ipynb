{
 "cells": [
  {
   "cell_type": "markdown",
   "id": "2b40f2dd",
   "metadata": {
    "ExecuteTime": {
     "end_time": "2021-08-23T10:33:09.869510Z",
     "start_time": "2021-08-23T10:33:09.863023Z"
    }
   },
   "source": [
    "# Import  Library "
   ]
  },
  {
   "cell_type": "code",
   "execution_count": 2,
   "id": "6b95cd66",
   "metadata": {
    "ExecuteTime": {
     "end_time": "2021-08-23T14:55:29.725795Z",
     "start_time": "2021-08-23T14:55:29.364913Z"
    }
   },
   "outputs": [],
   "source": [
    "from selenium import webdriver\n",
    "from selenium.common.exceptions import NoSuchElementException\n",
    "from selenium.webdriver.common.keys import Keys\n",
    "from bs4 import BeautifulSoup\n",
    "from selenium.webdriver.support.ui import Select\n",
    "import time \n",
    "import pandas as pd \n",
    "from itertools import permutations\n"
   ]
  },
  {
   "cell_type": "markdown",
   "id": "44858925",
   "metadata": {},
   "source": [
    "# Get Country Code "
   ]
  },
  {
   "cell_type": "code",
   "execution_count": 3,
   "id": "9237dc88",
   "metadata": {
    "ExecuteTime": {
     "end_time": "2021-08-23T14:55:44.191424Z",
     "start_time": "2021-08-23T14:55:31.012435Z"
    }
   },
   "outputs": [],
   "source": [
    "browser = webdriver.Firefox()\n",
    "browser.get('https://www.trademap.org/Bilateral_TS.aspx?nvpm=1|360||156||TOTAL|||2|1|1|1|2|1|1|1||1')\n",
    "html_source = browser.page_source\n",
    "browser.quit()\n",
    "\n",
    "soup = BeautifulSoup(html_source,'html.parser')\n",
    "#class \"postText\" is not defined in the source code\n",
    "comments = soup.findAll('option')\n",
    "\n",
    "kode = []\n",
    "dct= {}\n",
    "for option in soup.find_all('option'):\n",
    "    dct[option.text] = option['value']\n",
    "    kode.append(option['value'])\n",
    "kode = kode[113:366]\n",
    "\n",
    "kode_negara = {}\n",
    "for  key, value in dct.items():\n",
    "    if value in  kode:\n",
    "        kode_negara[key] = value\n",
    "        \n",
    " "
   ]
  },
  {
   "cell_type": "code",
   "execution_count": 4,
   "id": "d88cd11b",
   "metadata": {
    "ExecuteTime": {
     "end_time": "2021-08-23T14:55:44.201293Z",
     "start_time": "2021-08-23T14:55:44.193699Z"
    }
   },
   "outputs": [],
   "source": [
    "kombinasi_negara = []\n",
    "for  key, value in kode_negara.items():\n",
    "    kombinasi_negara.append(('360', value))\n",
    "    \n"
   ]
  },
  {
   "cell_type": "code",
   "execution_count": 5,
   "id": "6bac1859",
   "metadata": {
    "ExecuteTime": {
     "end_time": "2021-08-23T14:55:44.315442Z",
     "start_time": "2021-08-23T14:55:44.205128Z"
    }
   },
   "outputs": [
    {
     "name": "stdout",
     "output_type": "stream",
     "text": [
      "110\n"
     ]
    }
   ],
   "source": [
    "for val, i in enumerate(kombinasi_negara):\n",
    "    if i[0] == i[1]:\n",
    "        print(val)"
   ]
  },
  {
   "cell_type": "code",
   "execution_count": 6,
   "id": "dda39a3c",
   "metadata": {
    "ExecuteTime": {
     "end_time": "2021-08-23T14:55:46.653208Z",
     "start_time": "2021-08-23T14:55:46.634499Z"
    }
   },
   "outputs": [
    {
     "data": {
      "text/plain": [
       "('360', '360')"
      ]
     },
     "execution_count": 6,
     "metadata": {},
     "output_type": "execute_result"
    }
   ],
   "source": [
    "kombinasi_negara.pop(110)"
   ]
  },
  {
   "cell_type": "markdown",
   "id": "72236e86",
   "metadata": {},
   "source": [
    "# Get HTML  Importer  Data"
   ]
  },
  {
   "cell_type": "code",
   "execution_count": 7,
   "id": "9d3d9ff4",
   "metadata": {
    "ExecuteTime": {
     "end_time": "2021-08-23T14:55:47.505045Z",
     "start_time": "2021-08-23T14:55:47.498726Z"
    }
   },
   "outputs": [],
   "source": [
    "def extract_import(negara, partner):\n",
    "\n",
    "    browser = webdriver.Firefox()\n",
    "    browser.get(f\"https://www.trademap.org/Bilateral_TS.aspx?nvpm=1|{negara}||{partner}||TOTAL|||2|1|1|1|2|1|1|1|1|1\")\n",
    "    time.sleep(3)\n",
    "\n",
    "    select = Select(browser.find_element_by_id('ctl00_PageContent_GridViewPanelControl_DropDownList_NumTimePeriod'))\n",
    "    select.select_by_value('5')\n",
    "\n",
    "    time.sleep(3)\n",
    "    select = Select(browser.find_element_by_id('ctl00_PageContent_GridViewPanelControl_DropDownList_PageSize'))\n",
    "    select.select_by_value('300')\n",
    "\n",
    "    time.sleep(4)\n",
    "    html_source = browser.page_source\n",
    "\n",
    "    browser.quit()\n",
    "\n",
    "    soup = BeautifulSoup(html_source,'html.parser')\n",
    "\n",
    "    #class \"postText\" is not defined in the source code\n",
    "    data_import = soup.findAll('td',{'class':['tabContent']})\n",
    "\n",
    "    return data_import\n",
    "\n",
    "\n",
    "\n"
   ]
  },
  {
   "cell_type": "markdown",
   "id": "a3bb9a44",
   "metadata": {},
   "source": [
    "# Get HTML Export Data"
   ]
  },
  {
   "cell_type": "code",
   "execution_count": 8,
   "id": "a591fbe2",
   "metadata": {
    "ExecuteTime": {
     "end_time": "2021-08-23T14:55:49.639917Z",
     "start_time": "2021-08-23T14:55:49.633947Z"
    }
   },
   "outputs": [],
   "source": [
    "def extract_export(negara, partner):\n",
    "\n",
    "    browser = webdriver.Firefox()\n",
    "    browser.get(f\"https://www.trademap.org/Bilateral_TS.aspx?nvpm=1|{negara}||{partner}||TOTAL|||2|1|1|2|2|1|1|1|1|1\")\n",
    "    time.sleep(3)\n",
    "\n",
    "    select = Select(browser.find_element_by_id('ctl00_PageContent_GridViewPanelControl_DropDownList_NumTimePeriod'))\n",
    "    select.select_by_value('5')\n",
    "\n",
    "    time.sleep(3)\n",
    "    select = Select(browser.find_element_by_id('ctl00_PageContent_GridViewPanelControl_DropDownList_PageSize'))\n",
    "    select.select_by_value('300')\n",
    "\n",
    "    time.sleep(4)\n",
    "    html_source = browser.page_source\n",
    "\n",
    "    browser.quit()\n",
    "\n",
    "    soup = BeautifulSoup(html_source,'html.parser')\n",
    "\n",
    "    #class \"postText\" is not defined in the source code\n",
    "    data_export = soup.findAll('td',{'class':['tabContent']})\n",
    "\n",
    "    return data_export\n",
    "\n",
    "\n",
    "\n"
   ]
  },
  {
   "cell_type": "markdown",
   "id": "373ba897",
   "metadata": {},
   "source": [
    "# Extract  Data"
   ]
  },
  {
   "cell_type": "code",
   "execution_count": 9,
   "id": "c10495e5",
   "metadata": {
    "ExecuteTime": {
     "end_time": "2021-08-23T14:55:51.088861Z",
     "start_time": "2021-08-23T14:55:51.082139Z"
    }
   },
   "outputs": [],
   "source": [
    "def data_import_export_extract(data):\n",
    "    \n",
    "    web = []\n",
    "    for item in data:\n",
    "        tdTags = item.find_all(\"tr\")\n",
    "    for item in tdTags:\n",
    "        asi = item.find_all(\"td\")\n",
    "        for asii in asi :\n",
    "                #print(no , asii.text)\n",
    "                #product_code.append(asii.text.strip())\n",
    "            web.append(asii.text.strip())\n",
    "    web = web[24:]\n",
    "    \n",
    "    return web\n"
   ]
  },
  {
   "cell_type": "code",
   "execution_count": 10,
   "id": "d7db7968",
   "metadata": {
    "ExecuteTime": {
     "end_time": "2021-08-23T14:55:51.711067Z",
     "start_time": "2021-08-23T14:55:51.701090Z"
    }
   },
   "outputs": [],
   "source": [
    "def insert_into_list(web):\n",
    "    m = len(web)\n",
    "    n =20\n",
    "\n",
    "    product_code =[]\n",
    "    product_label = []\n",
    "    value_2016 =[]\n",
    "    value_2017 =[]\n",
    "    value_2018 =[]\n",
    "    value_2019=[]\n",
    "    value_2020=[]\n",
    "\n",
    "    for i in range (0, m, n ):\n",
    "        #print(web[i])\n",
    "        product_code.append(web[i])\n",
    "        product_label.append(web[i+1])\n",
    "        value_2016.append(web[i+2])\n",
    "        value_2017.append(web[i+3])\n",
    "        value_2018.append(web[i+4])\n",
    "        value_2019.append(web[i+5])\n",
    "        value_2020.append(web[i+6])\n",
    "    \n",
    "    # make dataframe\n",
    "    kolom = ['product_code', 'product_label','2016','2017','2018','2019','2020']\n",
    "    df = pd.DataFrame(columns= kolom)\n",
    "    df['product_code'] = product_code\n",
    "    df['product_label'] = product_label\n",
    "    df['2016'] = value_2016\n",
    "    df['2017'] = value_2017\n",
    "    df['2018'] = value_2018\n",
    "    df['2019'] = value_2019\n",
    "    df['2020'] = value_2020\n",
    "    return df"
   ]
  },
  {
   "cell_type": "code",
   "execution_count": 11,
   "id": "7fc318b0",
   "metadata": {
    "ExecuteTime": {
     "end_time": "2021-08-23T14:55:52.423646Z",
     "start_time": "2021-08-23T14:55:52.420361Z"
    },
    "scrolled": true
   },
   "outputs": [],
   "source": [
    "def get_key(val):\n",
    "    for key, value in kode_negara.items():\n",
    "         if val == value:\n",
    "            return key"
   ]
  },
  {
   "cell_type": "markdown",
   "id": "3faa5547",
   "metadata": {},
   "source": [
    "# For Data Importir "
   ]
  },
  {
   "cell_type": "code",
   "execution_count": 12,
   "id": "0233363e",
   "metadata": {
    "ExecuteTime": {
     "end_time": "2021-08-23T14:56:45.246010Z",
     "start_time": "2021-08-23T14:55:54.130006Z"
    }
   },
   "outputs": [
    {
     "data": {
      "text/html": [
       "<div>\n",
       "<style scoped>\n",
       "    .dataframe tbody tr th:only-of-type {\n",
       "        vertical-align: middle;\n",
       "    }\n",
       "\n",
       "    .dataframe tbody tr th {\n",
       "        vertical-align: top;\n",
       "    }\n",
       "\n",
       "    .dataframe thead th {\n",
       "        text-align: right;\n",
       "    }\n",
       "</style>\n",
       "<table border=\"1\" class=\"dataframe\">\n",
       "  <thead>\n",
       "    <tr style=\"text-align: right;\">\n",
       "      <th></th>\n",
       "      <th>product_code</th>\n",
       "      <th>product_label</th>\n",
       "      <th>2016</th>\n",
       "      <th>2017</th>\n",
       "      <th>2018</th>\n",
       "      <th>2019</th>\n",
       "      <th>2020</th>\n",
       "      <th>importer</th>\n",
       "      <th>exporter</th>\n",
       "    </tr>\n",
       "  </thead>\n",
       "  <tbody>\n",
       "    <tr>\n",
       "      <th>0</th>\n",
       "      <td>83</td>\n",
       "      <td>Miscellaneous articles of base metal</td>\n",
       "      <td>0</td>\n",
       "      <td>0</td>\n",
       "      <td>0</td>\n",
       "      <td>0</td>\n",
       "      <td>0</td>\n",
       "      <td>Indonesia</td>\n",
       "      <td>Afghanistan</td>\n",
       "    </tr>\n",
       "    <tr>\n",
       "      <th>1</th>\n",
       "      <td>78</td>\n",
       "      <td>Lead and articles thereof</td>\n",
       "      <td>0</td>\n",
       "      <td>0</td>\n",
       "      <td>0</td>\n",
       "      <td>0</td>\n",
       "      <td>0</td>\n",
       "      <td>Indonesia</td>\n",
       "      <td>Afghanistan</td>\n",
       "    </tr>\n",
       "    <tr>\n",
       "      <th>2</th>\n",
       "      <td>79</td>\n",
       "      <td>Zinc and articles thereof</td>\n",
       "      <td>0</td>\n",
       "      <td>0</td>\n",
       "      <td>0</td>\n",
       "      <td>0</td>\n",
       "      <td>0</td>\n",
       "      <td>Indonesia</td>\n",
       "      <td>Afghanistan</td>\n",
       "    </tr>\n",
       "    <tr>\n",
       "      <th>3</th>\n",
       "      <td>80</td>\n",
       "      <td>Tin and articles thereof</td>\n",
       "      <td>0</td>\n",
       "      <td>0</td>\n",
       "      <td>0</td>\n",
       "      <td>0</td>\n",
       "      <td>0</td>\n",
       "      <td>Indonesia</td>\n",
       "      <td>Afghanistan</td>\n",
       "    </tr>\n",
       "    <tr>\n",
       "      <th>4</th>\n",
       "      <td>81</td>\n",
       "      <td>Other base metals; cermets; articles thereof</td>\n",
       "      <td>0</td>\n",
       "      <td>0</td>\n",
       "      <td>0</td>\n",
       "      <td>0</td>\n",
       "      <td>0</td>\n",
       "      <td>Indonesia</td>\n",
       "      <td>Afghanistan</td>\n",
       "    </tr>\n",
       "    <tr>\n",
       "      <th>...</th>\n",
       "      <td>...</td>\n",
       "      <td>...</td>\n",
       "      <td>...</td>\n",
       "      <td>...</td>\n",
       "      <td>...</td>\n",
       "      <td>...</td>\n",
       "      <td>...</td>\n",
       "      <td>...</td>\n",
       "      <td>...</td>\n",
       "    </tr>\n",
       "    <tr>\n",
       "      <th>189</th>\n",
       "      <td>94</td>\n",
       "      <td>Furniture; bedding, mattresses, mattress suppo...</td>\n",
       "      <td>0</td>\n",
       "      <td>0</td>\n",
       "      <td>0</td>\n",
       "      <td>0</td>\n",
       "      <td>0</td>\n",
       "      <td>Indonesia</td>\n",
       "      <td>Africa not elsewhere specified</td>\n",
       "    </tr>\n",
       "    <tr>\n",
       "      <th>190</th>\n",
       "      <td>95</td>\n",
       "      <td>Toys, games and sports requisites; parts and a...</td>\n",
       "      <td>0</td>\n",
       "      <td>0</td>\n",
       "      <td>0</td>\n",
       "      <td>0</td>\n",
       "      <td>0</td>\n",
       "      <td>Indonesia</td>\n",
       "      <td>Africa not elsewhere specified</td>\n",
       "    </tr>\n",
       "    <tr>\n",
       "      <th>191</th>\n",
       "      <td>96</td>\n",
       "      <td>Miscellaneous manufactured articles</td>\n",
       "      <td>0</td>\n",
       "      <td>0</td>\n",
       "      <td>0</td>\n",
       "      <td>0</td>\n",
       "      <td>0</td>\n",
       "      <td>Indonesia</td>\n",
       "      <td>Africa not elsewhere specified</td>\n",
       "    </tr>\n",
       "    <tr>\n",
       "      <th>192</th>\n",
       "      <td>97</td>\n",
       "      <td>Works of art, collectors' pieces and antiques</td>\n",
       "      <td>0</td>\n",
       "      <td>0</td>\n",
       "      <td>0</td>\n",
       "      <td>0</td>\n",
       "      <td>0</td>\n",
       "      <td>Indonesia</td>\n",
       "      <td>Africa not elsewhere specified</td>\n",
       "    </tr>\n",
       "    <tr>\n",
       "      <th>193</th>\n",
       "      <td>99</td>\n",
       "      <td>Commodities not elsewhere specified</td>\n",
       "      <td>0</td>\n",
       "      <td>0</td>\n",
       "      <td>0</td>\n",
       "      <td>0</td>\n",
       "      <td>0</td>\n",
       "      <td>Indonesia</td>\n",
       "      <td>Africa not elsewhere specified</td>\n",
       "    </tr>\n",
       "  </tbody>\n",
       "</table>\n",
       "<p>194 rows × 9 columns</p>\n",
       "</div>"
      ],
      "text/plain": [
       "    product_code                                      product_label 2016 2017  \\\n",
       "0             83               Miscellaneous articles of base metal    0    0   \n",
       "1             78                          Lead and articles thereof    0    0   \n",
       "2             79                          Zinc and articles thereof    0    0   \n",
       "3             80                           Tin and articles thereof    0    0   \n",
       "4             81       Other base metals; cermets; articles thereof    0    0   \n",
       "..           ...                                                ...  ...  ...   \n",
       "189           94  Furniture; bedding, mattresses, mattress suppo...    0    0   \n",
       "190           95  Toys, games and sports requisites; parts and a...    0    0   \n",
       "191           96                Miscellaneous manufactured articles    0    0   \n",
       "192           97      Works of art, collectors' pieces and antiques    0    0   \n",
       "193           99                Commodities not elsewhere specified    0    0   \n",
       "\n",
       "    2018 2019 2020   importer                        exporter  \n",
       "0      0    0    0  Indonesia                     Afghanistan  \n",
       "1      0    0    0  Indonesia                     Afghanistan  \n",
       "2      0    0    0  Indonesia                     Afghanistan  \n",
       "3      0    0    0  Indonesia                     Afghanistan  \n",
       "4      0    0    0  Indonesia                     Afghanistan  \n",
       "..   ...  ...  ...        ...                             ...  \n",
       "189    0    0    0  Indonesia  Africa not elsewhere specified  \n",
       "190    0    0    0  Indonesia  Africa not elsewhere specified  \n",
       "191    0    0    0  Indonesia  Africa not elsewhere specified  \n",
       "192    0    0    0  Indonesia  Africa not elsewhere specified  \n",
       "193    0    0    0  Indonesia  Africa not elsewhere specified  \n",
       "\n",
       "[194 rows x 9 columns]"
      ]
     },
     "execution_count": 12,
     "metadata": {},
     "output_type": "execute_result"
    }
   ],
   "source": [
    "kolom = ['product_code', 'product_label','2016','2017','2018','2019','2020']\n",
    "data_importir = pd.DataFrame(columns= kolom)\n",
    "no =1 \n",
    "for kombinasi in kombinasi_negara:\n",
    "    if no <= 2:\n",
    "        negara = kombinasi[0]\n",
    "        partner = kombinasi[1]\n",
    "        nama_negara = get_key(negara)\n",
    "        nama_partner = get_key(partner)\n",
    "        data_import = extract_import(negara=negara, partner= partner)\n",
    "        web = data_import_export_extract(data_import)\n",
    "        df = insert_into_list(web)\n",
    "        df['importer'] = nama_negara  \n",
    "        df['exporter'] = nama_partner\n",
    "        data_importir = pd.concat([data_importir, df], ignore_index= True)\n",
    "        no+= 1\n",
    "    else :\n",
    "        break\n",
    "\n",
    "    \n",
    "data_importir\n"
   ]
  },
  {
   "cell_type": "markdown",
   "id": "287e8b62",
   "metadata": {},
   "source": [
    "# For Data Exportir"
   ]
  },
  {
   "cell_type": "code",
   "execution_count": 13,
   "id": "95a207b5",
   "metadata": {
    "ExecuteTime": {
     "end_time": "2021-08-23T14:57:37.019512Z",
     "start_time": "2021-08-23T14:56:45.248470Z"
    }
   },
   "outputs": [
    {
     "data": {
      "text/html": [
       "<div>\n",
       "<style scoped>\n",
       "    .dataframe tbody tr th:only-of-type {\n",
       "        vertical-align: middle;\n",
       "    }\n",
       "\n",
       "    .dataframe tbody tr th {\n",
       "        vertical-align: top;\n",
       "    }\n",
       "\n",
       "    .dataframe thead th {\n",
       "        text-align: right;\n",
       "    }\n",
       "</style>\n",
       "<table border=\"1\" class=\"dataframe\">\n",
       "  <thead>\n",
       "    <tr style=\"text-align: right;\">\n",
       "      <th></th>\n",
       "      <th>product_code</th>\n",
       "      <th>product_label</th>\n",
       "      <th>2016</th>\n",
       "      <th>2017</th>\n",
       "      <th>2018</th>\n",
       "      <th>2019</th>\n",
       "      <th>2020</th>\n",
       "      <th>importer</th>\n",
       "      <th>exporter</th>\n",
       "    </tr>\n",
       "  </thead>\n",
       "  <tbody>\n",
       "    <tr>\n",
       "      <th>0</th>\n",
       "      <td>39</td>\n",
       "      <td>Plastics and articles thereof</td>\n",
       "      <td>0</td>\n",
       "      <td>0</td>\n",
       "      <td>0</td>\n",
       "      <td>0</td>\n",
       "      <td>0</td>\n",
       "      <td>Afghanistan</td>\n",
       "      <td>Indonesia</td>\n",
       "    </tr>\n",
       "    <tr>\n",
       "      <th>1</th>\n",
       "      <td>97</td>\n",
       "      <td>Works of art, collectors' pieces and antiques</td>\n",
       "      <td>0</td>\n",
       "      <td>0</td>\n",
       "      <td>0</td>\n",
       "      <td>0</td>\n",
       "      <td>0</td>\n",
       "      <td>Afghanistan</td>\n",
       "      <td>Indonesia</td>\n",
       "    </tr>\n",
       "    <tr>\n",
       "      <th>2</th>\n",
       "      <td>86</td>\n",
       "      <td>Railway or tramway locomotives, rolling stock ...</td>\n",
       "      <td>0</td>\n",
       "      <td>0</td>\n",
       "      <td>0</td>\n",
       "      <td>0</td>\n",
       "      <td>0</td>\n",
       "      <td>Afghanistan</td>\n",
       "      <td>Indonesia</td>\n",
       "    </tr>\n",
       "    <tr>\n",
       "      <th>3</th>\n",
       "      <td>87</td>\n",
       "      <td>Vehicles other than railway or tramway rolling...</td>\n",
       "      <td>0</td>\n",
       "      <td>0</td>\n",
       "      <td>143</td>\n",
       "      <td>54</td>\n",
       "      <td>0</td>\n",
       "      <td>Afghanistan</td>\n",
       "      <td>Indonesia</td>\n",
       "    </tr>\n",
       "    <tr>\n",
       "      <th>4</th>\n",
       "      <td>88</td>\n",
       "      <td>Aircraft, spacecraft, and parts thereof</td>\n",
       "      <td>0</td>\n",
       "      <td>0</td>\n",
       "      <td>0</td>\n",
       "      <td>0</td>\n",
       "      <td>0</td>\n",
       "      <td>Afghanistan</td>\n",
       "      <td>Indonesia</td>\n",
       "    </tr>\n",
       "    <tr>\n",
       "      <th>...</th>\n",
       "      <td>...</td>\n",
       "      <td>...</td>\n",
       "      <td>...</td>\n",
       "      <td>...</td>\n",
       "      <td>...</td>\n",
       "      <td>...</td>\n",
       "      <td>...</td>\n",
       "      <td>...</td>\n",
       "      <td>...</td>\n",
       "    </tr>\n",
       "    <tr>\n",
       "      <th>189</th>\n",
       "      <td>94</td>\n",
       "      <td>Furniture; bedding, mattresses, mattress suppo...</td>\n",
       "      <td>0</td>\n",
       "      <td>0</td>\n",
       "      <td>0</td>\n",
       "      <td>0</td>\n",
       "      <td>0</td>\n",
       "      <td>Africa not elsewhere specified</td>\n",
       "      <td>Indonesia</td>\n",
       "    </tr>\n",
       "    <tr>\n",
       "      <th>190</th>\n",
       "      <td>95</td>\n",
       "      <td>Toys, games and sports requisites; parts and a...</td>\n",
       "      <td>0</td>\n",
       "      <td>0</td>\n",
       "      <td>0</td>\n",
       "      <td>0</td>\n",
       "      <td>0</td>\n",
       "      <td>Africa not elsewhere specified</td>\n",
       "      <td>Indonesia</td>\n",
       "    </tr>\n",
       "    <tr>\n",
       "      <th>191</th>\n",
       "      <td>96</td>\n",
       "      <td>Miscellaneous manufactured articles</td>\n",
       "      <td>0</td>\n",
       "      <td>0</td>\n",
       "      <td>0</td>\n",
       "      <td>0</td>\n",
       "      <td>0</td>\n",
       "      <td>Africa not elsewhere specified</td>\n",
       "      <td>Indonesia</td>\n",
       "    </tr>\n",
       "    <tr>\n",
       "      <th>192</th>\n",
       "      <td>97</td>\n",
       "      <td>Works of art, collectors' pieces and antiques</td>\n",
       "      <td>0</td>\n",
       "      <td>0</td>\n",
       "      <td>0</td>\n",
       "      <td>0</td>\n",
       "      <td>0</td>\n",
       "      <td>Africa not elsewhere specified</td>\n",
       "      <td>Indonesia</td>\n",
       "    </tr>\n",
       "    <tr>\n",
       "      <th>193</th>\n",
       "      <td>99</td>\n",
       "      <td>Commodities not elsewhere specified</td>\n",
       "      <td>0</td>\n",
       "      <td>0</td>\n",
       "      <td>0</td>\n",
       "      <td>0</td>\n",
       "      <td>0</td>\n",
       "      <td>Africa not elsewhere specified</td>\n",
       "      <td>Indonesia</td>\n",
       "    </tr>\n",
       "  </tbody>\n",
       "</table>\n",
       "<p>194 rows × 9 columns</p>\n",
       "</div>"
      ],
      "text/plain": [
       "    product_code                                      product_label 2016 2017  \\\n",
       "0             39                      Plastics and articles thereof    0    0   \n",
       "1             97      Works of art, collectors' pieces and antiques    0    0   \n",
       "2             86  Railway or tramway locomotives, rolling stock ...    0    0   \n",
       "3             87  Vehicles other than railway or tramway rolling...    0    0   \n",
       "4             88            Aircraft, spacecraft, and parts thereof    0    0   \n",
       "..           ...                                                ...  ...  ...   \n",
       "189           94  Furniture; bedding, mattresses, mattress suppo...    0    0   \n",
       "190           95  Toys, games and sports requisites; parts and a...    0    0   \n",
       "191           96                Miscellaneous manufactured articles    0    0   \n",
       "192           97      Works of art, collectors' pieces and antiques    0    0   \n",
       "193           99                Commodities not elsewhere specified    0    0   \n",
       "\n",
       "    2018 2019 2020                        importer   exporter  \n",
       "0      0    0    0                     Afghanistan  Indonesia  \n",
       "1      0    0    0                     Afghanistan  Indonesia  \n",
       "2      0    0    0                     Afghanistan  Indonesia  \n",
       "3    143   54    0                     Afghanistan  Indonesia  \n",
       "4      0    0    0                     Afghanistan  Indonesia  \n",
       "..   ...  ...  ...                             ...        ...  \n",
       "189    0    0    0  Africa not elsewhere specified  Indonesia  \n",
       "190    0    0    0  Africa not elsewhere specified  Indonesia  \n",
       "191    0    0    0  Africa not elsewhere specified  Indonesia  \n",
       "192    0    0    0  Africa not elsewhere specified  Indonesia  \n",
       "193    0    0    0  Africa not elsewhere specified  Indonesia  \n",
       "\n",
       "[194 rows x 9 columns]"
      ]
     },
     "execution_count": 13,
     "metadata": {},
     "output_type": "execute_result"
    }
   ],
   "source": [
    "kolom = ['product_code', 'product_label','2016','2017','2018','2019','2020']\n",
    "data_exportir = pd.DataFrame(columns= kolom)\n",
    "no = 1 \n",
    "for kombinasi in kombinasi_negara:\n",
    "    if no <= 2:\n",
    "        negara = kombinasi[0]\n",
    "        partner = kombinasi[1]\n",
    "        nama_negara = get_key(negara)\n",
    "        nama_partner = get_key(partner)\n",
    "        data_export = extract_export(negara=negara, partner= partner)\n",
    "        web = data_import_export_extract(data_export)\n",
    "        df = insert_into_list(web)\n",
    "        df['importer'] = nama_partner  \n",
    "        df['exporter'] = nama_negara\n",
    "        data_exportir = pd.concat([data_exportir, df], ignore_index= True)\n",
    "        no+=1\n",
    "    else:\n",
    "        break\n",
    "\n",
    "\n",
    "data_exportir"
   ]
  },
  {
   "cell_type": "code",
   "execution_count": null,
   "id": "23842632",
   "metadata": {},
   "outputs": [],
   "source": []
  },
  {
   "cell_type": "code",
   "execution_count": null,
   "id": "e54cc17f",
   "metadata": {},
   "outputs": [],
   "source": []
  }
 ],
 "metadata": {
  "kernelspec": {
   "display_name": "Python 3",
   "language": "python",
   "name": "python3"
  },
  "language_info": {
   "codemirror_mode": {
    "name": "ipython",
    "version": 3
   },
   "file_extension": ".py",
   "mimetype": "text/x-python",
   "name": "python",
   "nbconvert_exporter": "python",
   "pygments_lexer": "ipython3",
   "version": "3.7.7"
  },
  "toc": {
   "base_numbering": 1,
   "nav_menu": {},
   "number_sections": true,
   "sideBar": true,
   "skip_h1_title": false,
   "title_cell": "Table of Contents",
   "title_sidebar": "Contents",
   "toc_cell": false,
   "toc_position": {},
   "toc_section_display": true,
   "toc_window_display": false
  }
 },
 "nbformat": 4,
 "nbformat_minor": 5
}
