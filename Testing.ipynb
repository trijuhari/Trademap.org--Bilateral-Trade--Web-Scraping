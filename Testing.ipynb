{
 "cells": [
  {
   "cell_type": "markdown",
   "id": "6387d20f",
   "metadata": {
    "ExecuteTime": {
     "end_time": "2021-08-23T10:33:09.869510Z",
     "start_time": "2021-08-23T10:33:09.863023Z"
    }
   },
   "source": [
    "# Import  Library "
   ]
  },
  {
   "cell_type": "code",
   "execution_count": 1,
   "id": "bfab163d",
   "metadata": {
    "ExecuteTime": {
     "end_time": "2021-09-21T01:25:52.517278Z",
     "start_time": "2021-09-21T01:25:51.813340Z"
    }
   },
   "outputs": [],
   "source": [
    "from selenium import webdriver\n",
    "from selenium.common.exceptions import NoSuchElementException\n",
    "from selenium.webdriver.common.keys import Keys\n",
    "from bs4 import BeautifulSoup\n",
    "from selenium.webdriver.support.ui import Select\n",
    "from selenium.webdriver.common.by import By\n",
    "from selenium.webdriver.support.ui import WebDriverWait\n",
    "from selenium.webdriver.support import expected_conditions as EC\n",
    "from selenium.common.exceptions import TimeoutException\n",
    "import time \n",
    "import pandas as pd \n",
    "from itertools import permutations\n"
   ]
  },
  {
   "cell_type": "markdown",
   "id": "3fde72b7",
   "metadata": {},
   "source": [
    "# Get Country Code "
   ]
  },
  {
   "cell_type": "code",
   "execution_count": 2,
   "id": "2ed05ff3",
   "metadata": {
    "ExecuteTime": {
     "end_time": "2021-09-21T01:26:10.920344Z",
     "start_time": "2021-09-21T01:25:52.521008Z"
    }
   },
   "outputs": [],
   "source": [
    "browser = webdriver.Firefox()\n",
    "browser.get('https://www.trademap.org/Bilateral_TS.aspx?nvpm=1|360||156||TOTAL|||2|1|1|1|2|1|1|1||1')\n",
    "html_source = browser.page_source\n",
    "browser.quit()\n",
    "\n",
    "soup = BeautifulSoup(html_source,'html.parser')\n",
    "#class \"postText\" is not defined in the source code\n",
    "comments = soup.findAll('option')\n",
    "\n",
    "kode = []\n",
    "dct= {}\n",
    "for option in soup.find_all('option'):\n",
    "    dct[option.text] = option['value']\n",
    "    kode.append(option['value'])\n",
    "kode = kode[113:366]\n",
    "\n",
    "kode_negara = {}\n",
    "for  key, value in dct.items():\n",
    "    if value in  kode:\n",
    "        kode_negara[key] = value\n",
    "        \n",
    " "
   ]
  },
  {
   "cell_type": "code",
   "execution_count": 3,
   "id": "096d9b37",
   "metadata": {
    "ExecuteTime": {
     "end_time": "2021-09-21T01:26:10.957238Z",
     "start_time": "2021-09-21T01:26:10.926845Z"
    }
   },
   "outputs": [],
   "source": [
    "kombinasi_negara = []\n",
    "for  key, value in kode_negara.items():\n",
    "    kombinasi_negara.append(('360', value))\n",
    "    \n"
   ]
  },
  {
   "cell_type": "code",
   "execution_count": 4,
   "id": "17001429",
   "metadata": {
    "ExecuteTime": {
     "end_time": "2021-09-21T01:26:11.131276Z",
     "start_time": "2021-09-21T01:26:10.963047Z"
    }
   },
   "outputs": [
    {
     "name": "stdout",
     "output_type": "stream",
     "text": [
      "110\n"
     ]
    }
   ],
   "source": [
    "for val, i in enumerate(kombinasi_negara):\n",
    "    if i[0] == i[1]:\n",
    "        print(val)"
   ]
  },
  {
   "cell_type": "code",
   "execution_count": 5,
   "id": "9bd4d57d",
   "metadata": {
    "ExecuteTime": {
     "end_time": "2021-09-21T01:26:11.296087Z",
     "start_time": "2021-09-21T01:26:11.133637Z"
    }
   },
   "outputs": [
    {
     "data": {
      "text/plain": [
       "('360', '360')"
      ]
     },
     "execution_count": 5,
     "metadata": {},
     "output_type": "execute_result"
    }
   ],
   "source": [
    "kombinasi_negara.pop(110)"
   ]
  },
  {
   "cell_type": "code",
   "execution_count": 6,
   "id": "afef6a19",
   "metadata": {
    "ExecuteTime": {
     "end_time": "2021-09-21T01:26:11.413961Z",
     "start_time": "2021-09-21T01:26:11.300116Z"
    }
   },
   "outputs": [
    {
     "data": {
      "text/plain": [
       "('360', '577')"
      ]
     },
     "execution_count": 6,
     "metadata": {},
     "output_type": "execute_result"
    }
   ],
   "source": [
    "kombinasi_negara[1]"
   ]
  },
  {
   "cell_type": "markdown",
   "id": "59843d07",
   "metadata": {},
   "source": [
    "# Get HTML  Importer  Data"
   ]
  },
  {
   "cell_type": "code",
   "execution_count": 7,
   "id": "8ac18cf3",
   "metadata": {
    "ExecuteTime": {
     "end_time": "2021-09-21T01:26:11.516476Z",
     "start_time": "2021-09-21T01:26:11.425929Z"
    }
   },
   "outputs": [],
   "source": [
    "def extract_import(negara, partner):\n",
    "\n",
    "    browser = webdriver.Firefox()\n",
    "    browser.get(f\"https://www.trademap.org/Bilateral_TS.aspx?nvpm=1|{negara}||{partner}||TOTAL|||2|1|1|1|2|1|1|1|1|1\")\n",
    "    time.sleep(3)\n",
    "    \n",
    "    select = Select(browser.find_element_by_id('ctl00_NavigationControl_DropDownList_ProductClusterLevel'))\n",
    "    select.select_by_value('4')\n",
    "\n",
    "    time.sleep(3)\n",
    "    select = Select(browser.find_element_by_id('ctl00_PageContent_GridViewPanelControl_DropDownList_NumTimePeriod'))\n",
    "    select.select_by_value('5')\n",
    "\n",
    "    time.sleep(3)\n",
    "    select = Select(browser.find_element_by_id('ctl00_PageContent_GridViewPanelControl_DropDownList_PageSize'))\n",
    "    select.select_by_value('300')\n",
    "    time.sleep(3)\n",
    "    html_source = []\n",
    "    jumlah_page = 0\n",
    "    html_source.append((browser.page_source))\n",
    "    jumlah_page +=1 \n",
    "    print (f\" Start Page {jumlah_page}...\")\n",
    "    \n",
    "    while True :\n",
    "        try :\n",
    "            WebDriverWait(browser, 20).until(EC.element_to_be_clickable((By.XPATH, \"//table[@id='ctl00_PageContent_MyGridView1']//table/tbody/tr//td/span//following::td[1]/a\"))).click()\n",
    "            html_source.append((browser.page_source))\n",
    "            jumlah_page +=1 \n",
    "            print (f\" Start Page {jumlah_page}...\")\n",
    "        except TimeoutException:\n",
    "            print(\"Finished \\n\")\n",
    "            break\n",
    "\n",
    "        \n",
    "    \n",
    "   \n",
    "\n",
    "\n",
    "    browser.quit()\n",
    "\n",
    "    \n",
    "\n",
    "    return html_source\n",
    "\n",
    "\n",
    "\n"
   ]
  },
  {
   "cell_type": "markdown",
   "id": "d21e8c8a",
   "metadata": {},
   "source": [
    "# Get HTML Export Data"
   ]
  },
  {
   "cell_type": "code",
   "execution_count": 8,
   "id": "3da39ec8",
   "metadata": {
    "ExecuteTime": {
     "end_time": "2021-09-21T01:26:11.641410Z",
     "start_time": "2021-09-21T01:26:11.522625Z"
    }
   },
   "outputs": [],
   "source": [
    "def extract_export(negara, partner ):\n",
    "\n",
    "    browser = webdriver.Firefox()\n",
    "    browser.get(f\"https://www.trademap.org/Bilateral_TS.aspx?nvpm=1|{negara}||{partner}||TOTAL|||2|1|1|2|2|1|1|1|1|1\")\n",
    "    time.sleep(3)\n",
    "    \n",
    "    select = Select(browser.find_element_by_id('ctl00_NavigationControl_DropDownList_ProductClusterLevel'))\n",
    "    select.select_by_value('4')\n",
    "\n",
    "    time.sleep(3)\n",
    "    select = Select(browser.find_element_by_id('ctl00_PageContent_GridViewPanelControl_DropDownList_NumTimePeriod'))\n",
    "    select.select_by_value('5')\n",
    "\n",
    "    time.sleep(3)\n",
    "    select = Select(browser.find_element_by_id('ctl00_PageContent_GridViewPanelControl_DropDownList_PageSize'))\n",
    "    select.select_by_value('300')\n",
    "    time.sleep(3)\n",
    "    html_source = []\n",
    "    jumlah_page = 0\n",
    "    html_source.append((browser.page_source))\n",
    "    jumlah_page +=1 \n",
    "    print (f\" Start Page {jumlah_page}...\")\n",
    "    \n",
    "    while True :\n",
    "        try :\n",
    "            WebDriverWait(browser, 20).until(EC.element_to_be_clickable((By.XPATH, \"//table[@id='ctl00_PageContent_MyGridView1']//table/tbody/tr//td/span//following::td[1]/a\"))).click()\n",
    "            html_source.append((browser.page_source))\n",
    "            jumlah_page +=1 \n",
    "            print (f\" Start Page {jumlah_page}...\")\n",
    "        except TimeoutException:\n",
    "            print(\"Finished \\n\")\n",
    "            break\n",
    "\n",
    "        \n",
    "    \n",
    "   \n",
    "\n",
    "\n",
    "    browser.quit()\n",
    "\n",
    "    \n",
    "\n",
    "    return html_source\n",
    "\n",
    "\n",
    "\n",
    "\n"
   ]
  },
  {
   "cell_type": "markdown",
   "id": "ec754544",
   "metadata": {},
   "source": [
    "# Extract  Data"
   ]
  },
  {
   "cell_type": "code",
   "execution_count": 9,
   "id": "809755e5",
   "metadata": {
    "ExecuteTime": {
     "end_time": "2021-09-21T01:26:11.797565Z",
     "start_time": "2021-09-21T01:26:11.650161Z"
    }
   },
   "outputs": [],
   "source": [
    "def data_import_export_extract(html_source):\n",
    "    soup = BeautifulSoup(html_source,'html.parser')\n",
    "\n",
    "    data = soup.findAll('td',{'class':['tabContent']})\n",
    "    \n",
    "    web = []\n",
    "    for item in data:\n",
    "        tdTags = item.find_all(\"tr\")\n",
    "    for item in tdTags:\n",
    "        asi = item.find_all(\"td\")\n",
    "        for asii in asi :\n",
    "                #print(no , asii.text)\n",
    "                #product_code.append(asii.text.strip())\n",
    "            web.append(asii.text.strip())\n",
    "    web = web[24:]\n",
    "    \n",
    "    return web\n"
   ]
  },
  {
   "cell_type": "code",
   "execution_count": 10,
   "id": "6f856a88",
   "metadata": {
    "ExecuteTime": {
     "end_time": "2021-09-21T01:26:11.913735Z",
     "start_time": "2021-09-21T01:26:11.824928Z"
    }
   },
   "outputs": [],
   "source": [
    "def insert_into_list(web):\n",
    "    m = len(web)\n",
    "    n =20\n",
    "\n",
    "    product_code =[]\n",
    "    product_label = []\n",
    "    value_2016 =[]\n",
    "    value_2017 =[]\n",
    "    value_2018 =[]\n",
    "    value_2019=[]\n",
    "    value_2020=[]\n",
    "\n",
    "    for i in range (11, m, n ):\n",
    "        #print(web[i])\n",
    "        product_code.append(web[i])\n",
    "        product_label.append(web[i+1])\n",
    "        value_2016.append(web[i+2])\n",
    "        value_2017.append(web[i+3])\n",
    "        value_2018.append(web[i+4])\n",
    "        value_2019.append(web[i+5])\n",
    "        value_2020.append(web[i+6])\n",
    "    \n",
    "    # make dataframe\n",
    "    kolom = ['product_code', 'product_label','2016','2017','2018','2019','2020']\n",
    "    df = pd.DataFrame(columns= kolom)\n",
    "    df['product_code'] = product_code\n",
    "    df['product_label'] = product_label\n",
    "    df['2016'] = value_2016\n",
    "    df['2017'] = value_2017\n",
    "    df['2018'] = value_2018\n",
    "    df['2019'] = value_2019\n",
    "    df['2020'] = value_2020\n",
    "    return df"
   ]
  },
  {
   "cell_type": "code",
   "execution_count": 11,
   "id": "41f50a1a",
   "metadata": {
    "ExecuteTime": {
     "end_time": "2021-09-21T01:26:12.051266Z",
     "start_time": "2021-09-21T01:26:11.929427Z"
    },
    "scrolled": true
   },
   "outputs": [],
   "source": [
    "def get_key(val):\n",
    "    for key, value in kode_negara.items():\n",
    "         if val == value:\n",
    "            return key"
   ]
  },
  {
   "cell_type": "markdown",
   "id": "9180029b",
   "metadata": {},
   "source": [
    "# For Data Importir "
   ]
  },
  {
   "cell_type": "code",
   "execution_count": 12,
   "id": "e1c9bbf5",
   "metadata": {
    "ExecuteTime": {
     "end_time": "2021-09-21T01:29:08.493383Z",
     "start_time": "2021-09-21T01:26:12.053321Z"
    },
    "scrolled": true
   },
   "outputs": [
    {
     "name": "stdout",
     "output_type": "stream",
     "text": [
      "1/254 Started\n",
      " Start Page 1...\n",
      " Start Page 2...\n",
      " Start Page 3...\n",
      " Start Page 4...\n",
      " Start Page 5...\n",
      "Finished \n",
      "\n",
      "2/254 Started\n",
      " Start Page 1...\n",
      " Start Page 2...\n",
      " Start Page 3...\n",
      " Start Page 4...\n",
      " Start Page 5...\n",
      "Finished \n",
      "\n"
     ]
    },
    {
     "data": {
      "text/html": [
       "<div>\n",
       "<style scoped>\n",
       "    .dataframe tbody tr th:only-of-type {\n",
       "        vertical-align: middle;\n",
       "    }\n",
       "\n",
       "    .dataframe tbody tr th {\n",
       "        vertical-align: top;\n",
       "    }\n",
       "\n",
       "    .dataframe thead th {\n",
       "        text-align: right;\n",
       "    }\n",
       "</style>\n",
       "<table border=\"1\" class=\"dataframe\">\n",
       "  <thead>\n",
       "    <tr style=\"text-align: right;\">\n",
       "      <th></th>\n",
       "      <th>product_code</th>\n",
       "      <th>product_label</th>\n",
       "      <th>2016</th>\n",
       "      <th>2017</th>\n",
       "      <th>2018</th>\n",
       "      <th>2019</th>\n",
       "      <th>2020</th>\n",
       "      <th>importer</th>\n",
       "      <th>exporter</th>\n",
       "    </tr>\n",
       "  </thead>\n",
       "  <tbody>\n",
       "    <tr>\n",
       "      <th>0</th>\n",
       "      <td>8213</td>\n",
       "      <td>Scissors, tailors' shears and similar shears, ...</td>\n",
       "      <td>0</td>\n",
       "      <td>0</td>\n",
       "      <td>0</td>\n",
       "      <td>0</td>\n",
       "      <td>0</td>\n",
       "      <td>Indonesia</td>\n",
       "      <td>Afghanistan</td>\n",
       "    </tr>\n",
       "    <tr>\n",
       "      <th>1</th>\n",
       "      <td>8415</td>\n",
       "      <td>Air conditioning machines comprising a motor-d...</td>\n",
       "      <td>0</td>\n",
       "      <td>0</td>\n",
       "      <td>0</td>\n",
       "      <td>0</td>\n",
       "      <td>0</td>\n",
       "      <td>Indonesia</td>\n",
       "      <td>Afghanistan</td>\n",
       "    </tr>\n",
       "    <tr>\n",
       "      <th>2</th>\n",
       "      <td>8423</td>\n",
       "      <td>Weighing machinery, incl. weight-operated coun...</td>\n",
       "      <td>0</td>\n",
       "      <td>0</td>\n",
       "      <td>0</td>\n",
       "      <td>0</td>\n",
       "      <td>0</td>\n",
       "      <td>Indonesia</td>\n",
       "      <td>Afghanistan</td>\n",
       "    </tr>\n",
       "    <tr>\n",
       "      <th>3</th>\n",
       "      <td>8425</td>\n",
       "      <td>Pulley tackle and hoists (other than skip hois...</td>\n",
       "      <td>0</td>\n",
       "      <td>0</td>\n",
       "      <td>0</td>\n",
       "      <td>0</td>\n",
       "      <td>0</td>\n",
       "      <td>Indonesia</td>\n",
       "      <td>Afghanistan</td>\n",
       "    </tr>\n",
       "    <tr>\n",
       "      <th>4</th>\n",
       "      <td>8440</td>\n",
       "      <td>Bookbinding machinery, incl. book-sewing machi...</td>\n",
       "      <td>0</td>\n",
       "      <td>0</td>\n",
       "      <td>0</td>\n",
       "      <td>0</td>\n",
       "      <td>0</td>\n",
       "      <td>Indonesia</td>\n",
       "      <td>Afghanistan</td>\n",
       "    </tr>\n",
       "    <tr>\n",
       "      <th>...</th>\n",
       "      <td>...</td>\n",
       "      <td>...</td>\n",
       "      <td>...</td>\n",
       "      <td>...</td>\n",
       "      <td>...</td>\n",
       "      <td>...</td>\n",
       "      <td>...</td>\n",
       "      <td>...</td>\n",
       "      <td>...</td>\n",
       "    </tr>\n",
       "    <tr>\n",
       "      <th>2437</th>\n",
       "      <td>9507</td>\n",
       "      <td>Fishing rods, fish-hooks and other line fishin...</td>\n",
       "      <td>0</td>\n",
       "      <td>0</td>\n",
       "      <td>0</td>\n",
       "      <td>0</td>\n",
       "      <td>0</td>\n",
       "      <td>Indonesia</td>\n",
       "      <td>Africa not elsewhere specified</td>\n",
       "    </tr>\n",
       "    <tr>\n",
       "      <th>2438</th>\n",
       "      <td>9609</td>\n",
       "      <td>Pencils, crayons, pencil leads, pastels, drawi...</td>\n",
       "      <td>0</td>\n",
       "      <td>0</td>\n",
       "      <td>0</td>\n",
       "      <td>0</td>\n",
       "      <td>0</td>\n",
       "      <td>Indonesia</td>\n",
       "      <td>Africa not elsewhere specified</td>\n",
       "    </tr>\n",
       "    <tr>\n",
       "      <th>2439</th>\n",
       "      <td>9615</td>\n",
       "      <td>Combs, hair-slides and the like; hairpins; cur...</td>\n",
       "      <td>0</td>\n",
       "      <td>0</td>\n",
       "      <td>0</td>\n",
       "      <td>0</td>\n",
       "      <td>0</td>\n",
       "      <td>Indonesia</td>\n",
       "      <td>Africa not elsewhere specified</td>\n",
       "    </tr>\n",
       "    <tr>\n",
       "      <th>2440</th>\n",
       "      <td>9617</td>\n",
       "      <td>Vacuum flasks and other vacuum vessels, and pa...</td>\n",
       "      <td>0</td>\n",
       "      <td>0</td>\n",
       "      <td>0</td>\n",
       "      <td>0</td>\n",
       "      <td>0</td>\n",
       "      <td>Indonesia</td>\n",
       "      <td>Africa not elsewhere specified</td>\n",
       "    </tr>\n",
       "    <tr>\n",
       "      <th>2441</th>\n",
       "      <td>9705</td>\n",
       "      <td>Collections and collector's pieces of zoologic...</td>\n",
       "      <td>0</td>\n",
       "      <td>0</td>\n",
       "      <td>0</td>\n",
       "      <td>0</td>\n",
       "      <td>0</td>\n",
       "      <td>Indonesia</td>\n",
       "      <td>Africa not elsewhere specified</td>\n",
       "    </tr>\n",
       "  </tbody>\n",
       "</table>\n",
       "<p>2442 rows × 9 columns</p>\n",
       "</div>"
      ],
      "text/plain": [
       "     product_code                                      product_label 2016  \\\n",
       "0            8213  Scissors, tailors' shears and similar shears, ...    0   \n",
       "1            8415  Air conditioning machines comprising a motor-d...    0   \n",
       "2            8423  Weighing machinery, incl. weight-operated coun...    0   \n",
       "3            8425  Pulley tackle and hoists (other than skip hois...    0   \n",
       "4            8440  Bookbinding machinery, incl. book-sewing machi...    0   \n",
       "...           ...                                                ...  ...   \n",
       "2437         9507  Fishing rods, fish-hooks and other line fishin...    0   \n",
       "2438         9609  Pencils, crayons, pencil leads, pastels, drawi...    0   \n",
       "2439         9615  Combs, hair-slides and the like; hairpins; cur...    0   \n",
       "2440         9617  Vacuum flasks and other vacuum vessels, and pa...    0   \n",
       "2441         9705  Collections and collector's pieces of zoologic...    0   \n",
       "\n",
       "     2017 2018 2019 2020   importer                        exporter  \n",
       "0       0    0    0    0  Indonesia                     Afghanistan  \n",
       "1       0    0    0    0  Indonesia                     Afghanistan  \n",
       "2       0    0    0    0  Indonesia                     Afghanistan  \n",
       "3       0    0    0    0  Indonesia                     Afghanistan  \n",
       "4       0    0    0    0  Indonesia                     Afghanistan  \n",
       "...   ...  ...  ...  ...        ...                             ...  \n",
       "2437    0    0    0    0  Indonesia  Africa not elsewhere specified  \n",
       "2438    0    0    0    0  Indonesia  Africa not elsewhere specified  \n",
       "2439    0    0    0    0  Indonesia  Africa not elsewhere specified  \n",
       "2440    0    0    0    0  Indonesia  Africa not elsewhere specified  \n",
       "2441    0    0    0    0  Indonesia  Africa not elsewhere specified  \n",
       "\n",
       "[2442 rows x 9 columns]"
      ]
     },
     "execution_count": 12,
     "metadata": {},
     "output_type": "execute_result"
    }
   ],
   "source": [
    "kolom = ['product_code', 'product_label','2016','2017','2018','2019','2020']\n",
    "data_importir = pd.DataFrame(columns= kolom)\n",
    "no =1 \n",
    "for i,kombinasi in enumerate(kombinasi_negara,1):\n",
    "    if no <= 2:\n",
    "        print(f\"{i}/{len(kombinasi_negara)} Started\")\n",
    "        negara = kombinasi[0]\n",
    "        partner = kombinasi[1]\n",
    "        nama_negara = get_key(negara)\n",
    "        nama_partner = get_key(partner)\n",
    "        \n",
    "        data_import = extract_import(negara=negara, partner= partner )\n",
    "        for data in data_import:\n",
    "            web = data_import_export_extract(data)\n",
    "            df = insert_into_list(web)\n",
    "            df['importer'] = nama_negara  \n",
    "            df['exporter'] = nama_partner\n",
    "            data_importir = pd.concat([data_importir, df], ignore_index= True)\n",
    "            data_importir = data_importir[data_importir.product_code != \"1\" ] \n",
    "            data_importir = data_importir.reset_index(drop=True)        \n",
    "        no += 1\n",
    "    else :\n",
    "        break\n",
    "\n",
    "    \n",
    "data_importir\n"
   ]
  },
  {
   "cell_type": "markdown",
   "id": "01d1ca60",
   "metadata": {},
   "source": [
    "# For Data Exportir"
   ]
  },
  {
   "cell_type": "code",
   "execution_count": 13,
   "id": "16ef2523",
   "metadata": {
    "ExecuteTime": {
     "end_time": "2021-09-21T01:32:24.000567Z",
     "start_time": "2021-09-21T01:29:08.499092Z"
    }
   },
   "outputs": [
    {
     "name": "stdout",
     "output_type": "stream",
     "text": [
      "1/254 Started\n",
      " Start Page 1...\n",
      " Start Page 2...\n",
      " Start Page 3...\n",
      " Start Page 4...\n",
      " Start Page 5...\n",
      "Finished \n",
      "\n",
      "2/254 Started\n",
      " Start Page 1...\n",
      " Start Page 2...\n",
      " Start Page 3...\n",
      " Start Page 4...\n",
      " Start Page 5...\n",
      "Finished \n",
      "\n"
     ]
    },
    {
     "data": {
      "text/html": [
       "<div>\n",
       "<style scoped>\n",
       "    .dataframe tbody tr th:only-of-type {\n",
       "        vertical-align: middle;\n",
       "    }\n",
       "\n",
       "    .dataframe tbody tr th {\n",
       "        vertical-align: top;\n",
       "    }\n",
       "\n",
       "    .dataframe thead th {\n",
       "        text-align: right;\n",
       "    }\n",
       "</style>\n",
       "<table border=\"1\" class=\"dataframe\">\n",
       "  <thead>\n",
       "    <tr style=\"text-align: right;\">\n",
       "      <th></th>\n",
       "      <th>product_code</th>\n",
       "      <th>product_label</th>\n",
       "      <th>2016</th>\n",
       "      <th>2017</th>\n",
       "      <th>2018</th>\n",
       "      <th>2019</th>\n",
       "      <th>2020</th>\n",
       "      <th>importer</th>\n",
       "      <th>exporter</th>\n",
       "    </tr>\n",
       "  </thead>\n",
       "  <tbody>\n",
       "    <tr>\n",
       "      <th>0</th>\n",
       "      <td>1806</td>\n",
       "      <td>Chocolate and other food preparations containi...</td>\n",
       "      <td>0</td>\n",
       "      <td>0</td>\n",
       "      <td>0</td>\n",
       "      <td>0</td>\n",
       "      <td>0</td>\n",
       "      <td>Afghanistan</td>\n",
       "      <td>Indonesia</td>\n",
       "    </tr>\n",
       "    <tr>\n",
       "      <th>1</th>\n",
       "      <td>2006</td>\n",
       "      <td>Vegetables, fruit, nuts, fruit-peel and other ...</td>\n",
       "      <td>0</td>\n",
       "      <td>0</td>\n",
       "      <td>0</td>\n",
       "      <td>0</td>\n",
       "      <td>0</td>\n",
       "      <td>Afghanistan</td>\n",
       "      <td>Indonesia</td>\n",
       "    </tr>\n",
       "    <tr>\n",
       "      <th>2</th>\n",
       "      <td>0105</td>\n",
       "      <td>Live poultry, \"fowls of the species Gallus dom...</td>\n",
       "      <td>0</td>\n",
       "      <td>0</td>\n",
       "      <td>0</td>\n",
       "      <td>0</td>\n",
       "      <td>0</td>\n",
       "      <td>Afghanistan</td>\n",
       "      <td>Indonesia</td>\n",
       "    </tr>\n",
       "    <tr>\n",
       "      <th>3</th>\n",
       "      <td>0201</td>\n",
       "      <td>Meat of bovine animals, fresh or chilled</td>\n",
       "      <td>0</td>\n",
       "      <td>0</td>\n",
       "      <td>0</td>\n",
       "      <td>0</td>\n",
       "      <td>0</td>\n",
       "      <td>Afghanistan</td>\n",
       "      <td>Indonesia</td>\n",
       "    </tr>\n",
       "    <tr>\n",
       "      <th>4</th>\n",
       "      <td>0203</td>\n",
       "      <td>Meat of swine, fresh, chilled or frozen</td>\n",
       "      <td>0</td>\n",
       "      <td>0</td>\n",
       "      <td>0</td>\n",
       "      <td>0</td>\n",
       "      <td>0</td>\n",
       "      <td>Afghanistan</td>\n",
       "      <td>Indonesia</td>\n",
       "    </tr>\n",
       "    <tr>\n",
       "      <th>...</th>\n",
       "      <td>...</td>\n",
       "      <td>...</td>\n",
       "      <td>...</td>\n",
       "      <td>...</td>\n",
       "      <td>...</td>\n",
       "      <td>...</td>\n",
       "      <td>...</td>\n",
       "      <td>...</td>\n",
       "      <td>...</td>\n",
       "    </tr>\n",
       "    <tr>\n",
       "      <th>2437</th>\n",
       "      <td>9507</td>\n",
       "      <td>Fishing rods, fish-hooks and other line fishin...</td>\n",
       "      <td>0</td>\n",
       "      <td>0</td>\n",
       "      <td>0</td>\n",
       "      <td>0</td>\n",
       "      <td>0</td>\n",
       "      <td>Africa not elsewhere specified</td>\n",
       "      <td>Indonesia</td>\n",
       "    </tr>\n",
       "    <tr>\n",
       "      <th>2438</th>\n",
       "      <td>9609</td>\n",
       "      <td>Pencils, crayons, pencil leads, pastels, drawi...</td>\n",
       "      <td>0</td>\n",
       "      <td>0</td>\n",
       "      <td>0</td>\n",
       "      <td>0</td>\n",
       "      <td>0</td>\n",
       "      <td>Africa not elsewhere specified</td>\n",
       "      <td>Indonesia</td>\n",
       "    </tr>\n",
       "    <tr>\n",
       "      <th>2439</th>\n",
       "      <td>9615</td>\n",
       "      <td>Combs, hair-slides and the like; hairpins; cur...</td>\n",
       "      <td>0</td>\n",
       "      <td>0</td>\n",
       "      <td>0</td>\n",
       "      <td>0</td>\n",
       "      <td>0</td>\n",
       "      <td>Africa not elsewhere specified</td>\n",
       "      <td>Indonesia</td>\n",
       "    </tr>\n",
       "    <tr>\n",
       "      <th>2440</th>\n",
       "      <td>9617</td>\n",
       "      <td>Vacuum flasks and other vacuum vessels, and pa...</td>\n",
       "      <td>0</td>\n",
       "      <td>0</td>\n",
       "      <td>0</td>\n",
       "      <td>0</td>\n",
       "      <td>0</td>\n",
       "      <td>Africa not elsewhere specified</td>\n",
       "      <td>Indonesia</td>\n",
       "    </tr>\n",
       "    <tr>\n",
       "      <th>2441</th>\n",
       "      <td>9705</td>\n",
       "      <td>Collections and collector's pieces of zoologic...</td>\n",
       "      <td>0</td>\n",
       "      <td>0</td>\n",
       "      <td>0</td>\n",
       "      <td>0</td>\n",
       "      <td>0</td>\n",
       "      <td>Africa not elsewhere specified</td>\n",
       "      <td>Indonesia</td>\n",
       "    </tr>\n",
       "  </tbody>\n",
       "</table>\n",
       "<p>2442 rows × 9 columns</p>\n",
       "</div>"
      ],
      "text/plain": [
       "     product_code                                      product_label 2016  \\\n",
       "0            1806  Chocolate and other food preparations containi...    0   \n",
       "1            2006  Vegetables, fruit, nuts, fruit-peel and other ...    0   \n",
       "2            0105  Live poultry, \"fowls of the species Gallus dom...    0   \n",
       "3            0201           Meat of bovine animals, fresh or chilled    0   \n",
       "4            0203            Meat of swine, fresh, chilled or frozen    0   \n",
       "...           ...                                                ...  ...   \n",
       "2437         9507  Fishing rods, fish-hooks and other line fishin...    0   \n",
       "2438         9609  Pencils, crayons, pencil leads, pastels, drawi...    0   \n",
       "2439         9615  Combs, hair-slides and the like; hairpins; cur...    0   \n",
       "2440         9617  Vacuum flasks and other vacuum vessels, and pa...    0   \n",
       "2441         9705  Collections and collector's pieces of zoologic...    0   \n",
       "\n",
       "     2017 2018 2019 2020                        importer   exporter  \n",
       "0       0    0    0    0                     Afghanistan  Indonesia  \n",
       "1       0    0    0    0                     Afghanistan  Indonesia  \n",
       "2       0    0    0    0                     Afghanistan  Indonesia  \n",
       "3       0    0    0    0                     Afghanistan  Indonesia  \n",
       "4       0    0    0    0                     Afghanistan  Indonesia  \n",
       "...   ...  ...  ...  ...                             ...        ...  \n",
       "2437    0    0    0    0  Africa not elsewhere specified  Indonesia  \n",
       "2438    0    0    0    0  Africa not elsewhere specified  Indonesia  \n",
       "2439    0    0    0    0  Africa not elsewhere specified  Indonesia  \n",
       "2440    0    0    0    0  Africa not elsewhere specified  Indonesia  \n",
       "2441    0    0    0    0  Africa not elsewhere specified  Indonesia  \n",
       "\n",
       "[2442 rows x 9 columns]"
      ]
     },
     "execution_count": 13,
     "metadata": {},
     "output_type": "execute_result"
    }
   ],
   "source": [
    "kolom = ['product_code', 'product_label','2016','2017','2018','2019','2020']\n",
    "data_exportir = pd.DataFrame(columns= kolom)\n",
    "no = 1 \n",
    "for i,kombinasi in enumerate(kombinasi_negara,1):\n",
    "    if no <= 2:\n",
    "        print(f\"{i}/{len(kombinasi_negara)} Started\")\n",
    "        negara = kombinasi[0]\n",
    "        partner = kombinasi[1]\n",
    "        nama_negara = get_key(negara)\n",
    "        nama_partner = get_key(partner)\n",
    "        data_export = extract_export(negara=negara, partner= partner)\n",
    "        for data in data_export:\n",
    "            web = data_import_export_extract(data)\n",
    "            df = insert_into_list(web)\n",
    "            df['importer'] = nama_partner  \n",
    "            df['exporter'] = nama_negara\n",
    "            data_exportir = pd.concat([data_exportir, df], ignore_index= True)\n",
    "            data_exportir = data_exportir[data_exportir.product_code != \"1\" ] \n",
    "            data_exportir = data_exportir.reset_index(drop=True) \n",
    "        no+=1\n",
    "    else:\n",
    "        break\n",
    "\n",
    "\n",
    "data_exportir"
   ]
  },
  {
   "cell_type": "code",
   "execution_count": null,
   "id": "2a546da2",
   "metadata": {},
   "outputs": [],
   "source": []
  },
  {
   "cell_type": "code",
   "execution_count": null,
   "id": "66f2ce1a",
   "metadata": {},
   "outputs": [],
   "source": []
  }
 ],
 "metadata": {
  "interpreter": {
   "hash": "7aafa6ab43e29e33b5ffa5bb6520d80b142221e0c9c7953e1200127ce1a113d6"
  },
  "kernelspec": {
   "display_name": "Python 3",
   "language": "python",
   "name": "python3"
  },
  "language_info": {
   "codemirror_mode": {
    "name": "ipython",
    "version": 3
   },
   "file_extension": ".py",
   "mimetype": "text/x-python",
   "name": "python",
   "nbconvert_exporter": "python",
   "pygments_lexer": "ipython3",
   "version": "3.7.7"
  },
  "toc": {
   "base_numbering": 1,
   "nav_menu": {},
   "number_sections": true,
   "sideBar": true,
   "skip_h1_title": false,
   "title_cell": "Table of Contents",
   "title_sidebar": "Contents",
   "toc_cell": false,
   "toc_position": {},
   "toc_section_display": true,
   "toc_window_display": false
  }
 },
 "nbformat": 4,
 "nbformat_minor": 5
}
