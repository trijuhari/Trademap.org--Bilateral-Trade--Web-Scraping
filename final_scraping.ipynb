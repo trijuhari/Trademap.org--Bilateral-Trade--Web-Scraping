{
 "cells": [
  {
   "cell_type": "markdown",
   "id": "2b40f2dd",
   "metadata": {
    "ExecuteTime": {
     "end_time": "2021-08-23T10:33:09.869510Z",
     "start_time": "2021-08-23T10:33:09.863023Z"
    }
   },
   "source": [
    "# Import  Library "
   ]
  },
  {
   "cell_type": "code",
   "execution_count": 7,
   "id": "6b95cd66",
   "metadata": {
    "ExecuteTime": {
     "end_time": "2021-08-23T10:36:42.556376Z",
     "start_time": "2021-08-23T10:36:42.364809Z"
    }
   },
   "outputs": [],
   "source": [
    "from selenium import webdriver\n",
    "from selenium.common.exceptions import NoSuchElementException\n",
    "from selenium.webdriver.common.keys import Keys\n",
    "from bs4 import BeautifulSoup\n",
    "from selenium.webdriver.support.ui import Select\n",
    "import time \n",
    "import pandas as pd \n",
    "from itertools import permutations\n"
   ]
  },
  {
   "cell_type": "markdown",
   "id": "44858925",
   "metadata": {},
   "source": [
    "# Get Country Code "
   ]
  },
  {
   "cell_type": "code",
   "execution_count": 19,
   "id": "9237dc88",
   "metadata": {
    "ExecuteTime": {
     "end_time": "2021-08-23T10:53:26.522324Z",
     "start_time": "2021-08-23T10:53:15.252371Z"
    }
   },
   "outputs": [],
   "source": [
    "browser = webdriver.Firefox()\n",
    "browser.get('https://www.trademap.org/Bilateral_TS.aspx?nvpm=1|360||156||TOTAL|||2|1|1|1|2|1|1|1||1')\n",
    "html_source = browser.page_source\n",
    "browser.quit()\n",
    "\n",
    "soup = BeautifulSoup(html_source,'html.parser')\n",
    "#class \"postText\" is not defined in the source code\n",
    "comments = soup.findAll('option')\n",
    "\n",
    "kode = []\n",
    "dct= {}\n",
    "for option in soup.find_all('option'):\n",
    "    dct[option.text] = option['value']\n",
    "    kode.append(option['value'])\n",
    "kode = kode[113:366]\n",
    "\n",
    "kode_negara = {}\n",
    "for  key, value in dct.items():\n",
    "    if value in  kode:\n",
    "        kode_negara[key] = value\n",
    "        \n",
    "kombinasi_negara =  (list(permutations(kode, 2)))"
   ]
  },
  {
   "cell_type": "markdown",
   "id": "72236e86",
   "metadata": {},
   "source": [
    "# Get HTML  Importer  Data"
   ]
  },
  {
   "cell_type": "code",
   "execution_count": 6,
   "id": "9d3d9ff4",
   "metadata": {
    "ExecuteTime": {
     "end_time": "2021-08-23T10:36:19.662688Z",
     "start_time": "2021-08-23T10:36:19.657343Z"
    }
   },
   "outputs": [],
   "source": [
    "def extract_import(negara, partner):\n",
    "\n",
    "    browser = webdriver.Firefox()\n",
    "    browser.get(f\"https://www.trademap.org/Bilateral_TS.aspx?nvpm=1|{negara}||{partner}||TOTAL|||2|1|1|1|2|1|1|1|1|1\")\n",
    "    time.sleep(3)\n",
    "\n",
    "    select = Select(browser.find_element_by_id('ctl00_PageContent_GridViewPanelControl_DropDownList_NumTimePeriod'))\n",
    "    select.select_by_value('5')\n",
    "\n",
    "    time.sleep(3)\n",
    "    select = Select(browser.find_element_by_id('ctl00_PageContent_GridViewPanelControl_DropDownList_PageSize'))\n",
    "    select.select_by_value('300')\n",
    "\n",
    "    time.sleep(7)\n",
    "    html_source = browser.page_source\n",
    "\n",
    "    browser.quit()\n",
    "\n",
    "    soup = BeautifulSoup(html_source,'html.parser')\n",
    "\n",
    "    #class \"postText\" is not defined in the source code\n",
    "    data_import = soup.findAll('td',{'class':['tabContent']})\n",
    "\n",
    "    return data_import\n"
   ]
  },
  {
   "cell_type": "markdown",
   "id": "373ba897",
   "metadata": {},
   "source": [
    "# Extract Import Data"
   ]
  },
  {
   "cell_type": "code",
   "execution_count": 9,
   "id": "c10495e5",
   "metadata": {
    "ExecuteTime": {
     "end_time": "2021-08-23T10:39:36.665127Z",
     "start_time": "2021-08-23T10:39:36.658361Z"
    }
   },
   "outputs": [],
   "source": [
    "def data_import_extract(data_import):\n",
    "    \n",
    "    web = []\n",
    "    for item in data_import:\n",
    "        tdTags = item.find_all(\"tr\")\n",
    "    for item in tdTags:\n",
    "        asi = item.find_all(\"td\")\n",
    "        for asii in asi :\n",
    "                #print(no , asii.text)\n",
    "                #product_code.append(asii.text.strip())\n",
    "            web.append(asii.text.strip())\n",
    "    web = web[24:]\n",
    "    \n",
    "    return web\n"
   ]
  },
  {
   "cell_type": "code",
   "execution_count": 10,
   "id": "d7db7968",
   "metadata": {
    "ExecuteTime": {
     "end_time": "2021-08-23T10:41:15.321496Z",
     "start_time": "2021-08-23T10:41:15.309246Z"
    }
   },
   "outputs": [],
   "source": [
    "def insert_into_list(web):\n",
    "    m = len(web)\n",
    "    n =20\n",
    "\n",
    "    product_code =[]\n",
    "    product_label = []\n",
    "    value_2016 =[]\n",
    "    value_2017 =[]\n",
    "    value_2018 =[]\n",
    "    value_2019=[]\n",
    "    value_2020=[]\n",
    "\n",
    "    for i in range (0, m, n ):\n",
    "        #print(web[i])\n",
    "        product_code.append(web[i])\n",
    "        product_label.append(web[i+1])\n",
    "        value_2016.append(web[i+2])\n",
    "        value_2017.append(web[i+3])\n",
    "        value_2018.append(web[i+4])\n",
    "        value_2019.append(web[i+5])\n",
    "        value_2020.append(web[i+6])\n",
    "    \n",
    "    # make dataframe\n",
    "    kolom = ['product_code', 'product_label','2016','2017','2018','2019','2020']\n",
    "    df = pd.DataFrame(columns= kolom)\n",
    "    df['product_code'] = product_code\n",
    "    df['product_label'] = product_label\n",
    "    df['2016'] = value_2016\n",
    "    df['2017'] = value_2017\n",
    "    df['2018'] = value_2018\n",
    "    df['2019'] = value_2019\n",
    "    df['2020'] = value_2020\n",
    "    return df"
   ]
  },
  {
   "cell_type": "code",
   "execution_count": 34,
   "id": "7fc318b0",
   "metadata": {
    "ExecuteTime": {
     "end_time": "2021-08-23T11:08:07.330047Z",
     "start_time": "2021-08-23T11:08:07.321244Z"
    },
    "scrolled": true
   },
   "outputs": [],
   "source": [
    "def get_key(val):\n",
    "    for key, value in kode_negara.items():\n",
    "         if val == value:\n",
    "            return key"
   ]
  },
  {
   "cell_type": "code",
   "execution_count": null,
   "id": "27ad741f",
   "metadata": {},
   "outputs": [],
   "source": [
    "kolom = ['product_code', 'product_label','2016','2017','2018','2019','2020']\n",
    "data_importir = pd.DataFrame(columns= kolom)"
   ]
  },
  {
   "cell_type": "code",
   "execution_count": 50,
   "id": "701b14d3",
   "metadata": {
    "ExecuteTime": {
     "end_time": "2021-08-23T11:30:50.941410Z",
     "start_time": "2021-08-23T11:29:47.673126Z"
    }
   },
   "outputs": [],
   "source": [
    "no = 1\n",
    "for kombinasi in kombinasi_negara:\n",
    "    negara = kombinasi[0]\n",
    "    partner = kombinasi[1]\n",
    "    nama_negara = get_key(negara)\n",
    "    nama_partner = get_key(partner)\n",
    "    data_import = extract_import(negara=negara, partner= partner)\n",
    "    web = data_import_extract(data_import)\n",
    "    df = insert_into_list(web)\n",
    "    df['importer'] = nama_negara  \n",
    "    df['exporter'] = nama_partner\n",
    "    data_importir = pd.concat([data_importir, df], ignore_index= True)\n",
    "    \n",
    "    \n",
    "# export to excel\n",
    "data_importir.to_excel('output.xlsx')\n",
    "#export to csv\n",
    "data_importir.to_csv('output.csv')\n"
   ]
  },
  {
   "cell_type": "code",
   "execution_count": 56,
   "id": "80c795f1",
   "metadata": {
    "ExecuteTime": {
     "end_time": "2021-08-23T12:31:22.901690Z",
     "start_time": "2021-08-23T12:31:22.875785Z"
    }
   },
   "outputs": [
    {
     "data": {
      "text/html": [
       "<div>\n",
       "<style scoped>\n",
       "    .dataframe tbody tr th:only-of-type {\n",
       "        vertical-align: middle;\n",
       "    }\n",
       "\n",
       "    .dataframe tbody tr th {\n",
       "        vertical-align: top;\n",
       "    }\n",
       "\n",
       "    .dataframe thead th {\n",
       "        text-align: right;\n",
       "    }\n",
       "</style>\n",
       "<table border=\"1\" class=\"dataframe\">\n",
       "  <thead>\n",
       "    <tr style=\"text-align: right;\">\n",
       "      <th></th>\n",
       "      <th>product_code</th>\n",
       "      <th>product_label</th>\n",
       "      <th>2016</th>\n",
       "      <th>2017</th>\n",
       "      <th>2018</th>\n",
       "      <th>2019</th>\n",
       "      <th>2020</th>\n",
       "      <th>importer</th>\n",
       "      <th>exporter</th>\n",
       "    </tr>\n",
       "  </thead>\n",
       "  <tbody>\n",
       "    <tr>\n",
       "      <th>0</th>\n",
       "      <td>01</td>\n",
       "      <td>Live animals</td>\n",
       "      <td>0</td>\n",
       "      <td>0</td>\n",
       "      <td>0</td>\n",
       "      <td>0</td>\n",
       "      <td></td>\n",
       "      <td>Afghanistan</td>\n",
       "      <td>Africa not elsewhere specified</td>\n",
       "    </tr>\n",
       "    <tr>\n",
       "      <th>1</th>\n",
       "      <td>02</td>\n",
       "      <td>Meat and edible meat offal</td>\n",
       "      <td>0</td>\n",
       "      <td>0</td>\n",
       "      <td>0</td>\n",
       "      <td>0</td>\n",
       "      <td></td>\n",
       "      <td>Afghanistan</td>\n",
       "      <td>Africa not elsewhere specified</td>\n",
       "    </tr>\n",
       "    <tr>\n",
       "      <th>2</th>\n",
       "      <td>03</td>\n",
       "      <td>Fish and crustaceans, molluscs and other aquat...</td>\n",
       "      <td>0</td>\n",
       "      <td>0</td>\n",
       "      <td>0</td>\n",
       "      <td>0</td>\n",
       "      <td></td>\n",
       "      <td>Afghanistan</td>\n",
       "      <td>Africa not elsewhere specified</td>\n",
       "    </tr>\n",
       "    <tr>\n",
       "      <th>3</th>\n",
       "      <td>04</td>\n",
       "      <td>Dairy produce; birds' eggs; natural honey; edi...</td>\n",
       "      <td>0</td>\n",
       "      <td>0</td>\n",
       "      <td>0</td>\n",
       "      <td>0</td>\n",
       "      <td></td>\n",
       "      <td>Afghanistan</td>\n",
       "      <td>Africa not elsewhere specified</td>\n",
       "    </tr>\n",
       "    <tr>\n",
       "      <th>4</th>\n",
       "      <td>05</td>\n",
       "      <td>Products of animal origin, not elsewhere speci...</td>\n",
       "      <td>0</td>\n",
       "      <td>0</td>\n",
       "      <td>0</td>\n",
       "      <td>0</td>\n",
       "      <td></td>\n",
       "      <td>Afghanistan</td>\n",
       "      <td>Africa not elsewhere specified</td>\n",
       "    </tr>\n",
       "    <tr>\n",
       "      <th>...</th>\n",
       "      <td>...</td>\n",
       "      <td>...</td>\n",
       "      <td>...</td>\n",
       "      <td>...</td>\n",
       "      <td>...</td>\n",
       "      <td>...</td>\n",
       "      <td>...</td>\n",
       "      <td>...</td>\n",
       "      <td>...</td>\n",
       "    </tr>\n",
       "    <tr>\n",
       "      <th>286</th>\n",
       "      <td>94</td>\n",
       "      <td>Furniture; bedding, mattresses, mattress suppo...</td>\n",
       "      <td>0</td>\n",
       "      <td>0</td>\n",
       "      <td>0</td>\n",
       "      <td>0</td>\n",
       "      <td></td>\n",
       "      <td>Afghanistan</td>\n",
       "      <td>Albania</td>\n",
       "    </tr>\n",
       "    <tr>\n",
       "      <th>287</th>\n",
       "      <td>95</td>\n",
       "      <td>Toys, games and sports requisites; parts and a...</td>\n",
       "      <td>0</td>\n",
       "      <td>0</td>\n",
       "      <td>0</td>\n",
       "      <td>0</td>\n",
       "      <td></td>\n",
       "      <td>Afghanistan</td>\n",
       "      <td>Albania</td>\n",
       "    </tr>\n",
       "    <tr>\n",
       "      <th>288</th>\n",
       "      <td>96</td>\n",
       "      <td>Miscellaneous manufactured articles</td>\n",
       "      <td>0</td>\n",
       "      <td>0</td>\n",
       "      <td>0</td>\n",
       "      <td>0</td>\n",
       "      <td></td>\n",
       "      <td>Afghanistan</td>\n",
       "      <td>Albania</td>\n",
       "    </tr>\n",
       "    <tr>\n",
       "      <th>289</th>\n",
       "      <td>97</td>\n",
       "      <td>Works of art, collectors' pieces and antiques</td>\n",
       "      <td>0</td>\n",
       "      <td>0</td>\n",
       "      <td>0</td>\n",
       "      <td>0</td>\n",
       "      <td></td>\n",
       "      <td>Afghanistan</td>\n",
       "      <td>Albania</td>\n",
       "    </tr>\n",
       "    <tr>\n",
       "      <th>290</th>\n",
       "      <td>99</td>\n",
       "      <td>Commodities not elsewhere specified</td>\n",
       "      <td>0</td>\n",
       "      <td>0</td>\n",
       "      <td>0</td>\n",
       "      <td>0</td>\n",
       "      <td></td>\n",
       "      <td>Afghanistan</td>\n",
       "      <td>Albania</td>\n",
       "    </tr>\n",
       "  </tbody>\n",
       "</table>\n",
       "<p>291 rows × 9 columns</p>\n",
       "</div>"
      ],
      "text/plain": [
       "    product_code                                      product_label 2016 2017  \\\n",
       "0             01                                       Live animals    0    0   \n",
       "1             02                         Meat and edible meat offal    0    0   \n",
       "2             03  Fish and crustaceans, molluscs and other aquat...    0    0   \n",
       "3             04  Dairy produce; birds' eggs; natural honey; edi...    0    0   \n",
       "4             05  Products of animal origin, not elsewhere speci...    0    0   \n",
       "..           ...                                                ...  ...  ...   \n",
       "286           94  Furniture; bedding, mattresses, mattress suppo...    0    0   \n",
       "287           95  Toys, games and sports requisites; parts and a...    0    0   \n",
       "288           96                Miscellaneous manufactured articles    0    0   \n",
       "289           97      Works of art, collectors' pieces and antiques    0    0   \n",
       "290           99                Commodities not elsewhere specified    0    0   \n",
       "\n",
       "    2018 2019 2020     importer                        exporter  \n",
       "0      0    0       Afghanistan  Africa not elsewhere specified  \n",
       "1      0    0       Afghanistan  Africa not elsewhere specified  \n",
       "2      0    0       Afghanistan  Africa not elsewhere specified  \n",
       "3      0    0       Afghanistan  Africa not elsewhere specified  \n",
       "4      0    0       Afghanistan  Africa not elsewhere specified  \n",
       "..   ...  ...  ...          ...                             ...  \n",
       "286    0    0       Afghanistan                         Albania  \n",
       "287    0    0       Afghanistan                         Albania  \n",
       "288    0    0       Afghanistan                         Albania  \n",
       "289    0    0       Afghanistan                         Albania  \n",
       "290    0    0       Afghanistan                         Albania  \n",
       "\n",
       "[291 rows x 9 columns]"
      ]
     },
     "execution_count": 56,
     "metadata": {},
     "output_type": "execute_result"
    }
   ],
   "source": [
    "data_importir"
   ]
  }
 ],
 "metadata": {
  "kernelspec": {
   "display_name": "Python 3",
   "language": "python",
   "name": "python3"
  },
  "language_info": {
   "codemirror_mode": {
    "name": "ipython",
    "version": 3
   },
   "file_extension": ".py",
   "mimetype": "text/x-python",
   "name": "python",
   "nbconvert_exporter": "python",
   "pygments_lexer": "ipython3",
   "version": "3.7.7"
  },
  "toc": {
   "base_numbering": 1,
   "nav_menu": {},
   "number_sections": true,
   "sideBar": true,
   "skip_h1_title": false,
   "title_cell": "Table of Contents",
   "title_sidebar": "Contents",
   "toc_cell": false,
   "toc_position": {},
   "toc_section_display": true,
   "toc_window_display": false
  }
 },
 "nbformat": 4,
 "nbformat_minor": 5
}
