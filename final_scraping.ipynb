{
 "cells": [
  {
   "cell_type": "markdown",
   "id": "2b40f2dd",
   "metadata": {
    "ExecuteTime": {
     "end_time": "2021-08-23T10:33:09.869510Z",
     "start_time": "2021-08-23T10:33:09.863023Z"
    }
   },
   "source": [
    "# Import  Library "
   ]
  },
  {
   "cell_type": "code",
   "execution_count": 21,
   "id": "6b95cd66",
   "metadata": {
    "ExecuteTime": {
     "end_time": "2021-08-23T14:38:10.477405Z",
     "start_time": "2021-08-23T14:38:10.472166Z"
    }
   },
   "outputs": [],
   "source": [
    "from selenium import webdriver\n",
    "from selenium.common.exceptions import NoSuchElementException\n",
    "from selenium.webdriver.common.keys import Keys\n",
    "from bs4 import BeautifulSoup\n",
    "from selenium.webdriver.support.ui import Select\n",
    "import time \n",
    "import pandas as pd \n",
    "from itertools import permutations\n"
   ]
  },
  {
   "cell_type": "markdown",
   "id": "44858925",
   "metadata": {},
   "source": [
    "# Get Country Code "
   ]
  },
  {
   "cell_type": "code",
   "execution_count": 22,
   "id": "9237dc88",
   "metadata": {
    "ExecuteTime": {
     "end_time": "2021-08-23T14:38:23.771735Z",
     "start_time": "2021-08-23T14:38:13.164325Z"
    }
   },
   "outputs": [],
   "source": [
    "browser = webdriver.Firefox()\n",
    "browser.get('https://www.trademap.org/Bilateral_TS.aspx?nvpm=1|360||156||TOTAL|||2|1|1|1|2|1|1|1||1')\n",
    "html_source = browser.page_source\n",
    "browser.quit()\n",
    "\n",
    "soup = BeautifulSoup(html_source,'html.parser')\n",
    "#class \"postText\" is not defined in the source code\n",
    "comments = soup.findAll('option')\n",
    "\n",
    "kode = []\n",
    "dct= {}\n",
    "for option in soup.find_all('option'):\n",
    "    dct[option.text] = option['value']\n",
    "    kode.append(option['value'])\n",
    "kode = kode[113:366]\n",
    "\n",
    "kode_negara = {}\n",
    "for  key, value in dct.items():\n",
    "    if value in  kode:\n",
    "        kode_negara[key] = value\n",
    "        \n",
    " "
   ]
  },
  {
   "cell_type": "code",
   "execution_count": 23,
   "id": "d88cd11b",
   "metadata": {
    "ExecuteTime": {
     "end_time": "2021-08-23T14:38:29.076759Z",
     "start_time": "2021-08-23T14:38:29.072897Z"
    }
   },
   "outputs": [],
   "source": [
    "kombinasi_negara = []\n",
    "for  key, value in kode_negara.items():\n",
    "    kombinasi_negara.append(('360', value))\n",
    "    \n"
   ]
  },
  {
   "cell_type": "code",
   "execution_count": 24,
   "id": "6bac1859",
   "metadata": {
    "ExecuteTime": {
     "end_time": "2021-08-23T14:38:34.046140Z",
     "start_time": "2021-08-23T14:38:34.041339Z"
    }
   },
   "outputs": [
    {
     "name": "stdout",
     "output_type": "stream",
     "text": [
      "110\n"
     ]
    }
   ],
   "source": [
    "for val, i in enumerate(kombinasi_negara):\n",
    "    if i[0] == i[1]:\n",
    "        print(val)"
   ]
  },
  {
   "cell_type": "code",
   "execution_count": 25,
   "id": "3c2c1cec",
   "metadata": {
    "ExecuteTime": {
     "end_time": "2021-08-23T14:38:38.784447Z",
     "start_time": "2021-08-23T14:38:38.780072Z"
    }
   },
   "outputs": [
    {
     "data": {
      "text/plain": [
       "('360', '360')"
      ]
     },
     "execution_count": 25,
     "metadata": {},
     "output_type": "execute_result"
    }
   ],
   "source": [
    "kombinasi_negara.pop(110)"
   ]
  },
  {
   "cell_type": "markdown",
   "id": "72236e86",
   "metadata": {},
   "source": [
    "# Get HTML  Importer  Data"
   ]
  },
  {
   "cell_type": "code",
   "execution_count": 27,
   "id": "9d3d9ff4",
   "metadata": {
    "ExecuteTime": {
     "end_time": "2021-08-23T14:38:57.982504Z",
     "start_time": "2021-08-23T14:38:57.976891Z"
    }
   },
   "outputs": [],
   "source": [
    "def extract_import(negara, partner):\n",
    "\n",
    "    browser = webdriver.Firefox()\n",
    "    browser.get(f\"https://www.trademap.org/Bilateral_TS.aspx?nvpm=1|{negara}||{partner}||TOTAL|||2|1|1|1|2|1|1|1|1|1\")\n",
    "    time.sleep(3)\n",
    "\n",
    "    select = Select(browser.find_element_by_id('ctl00_PageContent_GridViewPanelControl_DropDownList_NumTimePeriod'))\n",
    "    select.select_by_value('5')\n",
    "\n",
    "    time.sleep(3)\n",
    "    select = Select(browser.find_element_by_id('ctl00_PageContent_GridViewPanelControl_DropDownList_PageSize'))\n",
    "    select.select_by_value('300')\n",
    "\n",
    "    time.sleep(4)\n",
    "    html_source = browser.page_source\n",
    "\n",
    "    browser.quit()\n",
    "\n",
    "    soup = BeautifulSoup(html_source,'html.parser')\n",
    "\n",
    "    #class \"postText\" is not defined in the source code\n",
    "    data_import = soup.findAll('td',{'class':['tabContent']})\n",
    "\n",
    "    return data_import\n",
    "\n",
    "\n",
    "\n"
   ]
  },
  {
   "cell_type": "markdown",
   "id": "a12370af",
   "metadata": {},
   "source": [
    "# Get HTML Export Data"
   ]
  },
  {
   "cell_type": "code",
   "execution_count": 28,
   "id": "5a0f1455",
   "metadata": {
    "ExecuteTime": {
     "end_time": "2021-08-23T14:39:10.871240Z",
     "start_time": "2021-08-23T14:39:10.865476Z"
    }
   },
   "outputs": [],
   "source": [
    "def extract_export(negara, partner):\n",
    "\n",
    "    browser = webdriver.Firefox()\n",
    "    browser.get(f\"https://www.trademap.org/Bilateral_TS.aspx?nvpm=1|{negara}||{partner}||TOTAL|||2|1|1|2|2|1|1|1|1|1\")\n",
    "    time.sleep(3)\n",
    "\n",
    "    select = Select(browser.find_element_by_id('ctl00_PageContent_GridViewPanelControl_DropDownList_NumTimePeriod'))\n",
    "    select.select_by_value('5')\n",
    "\n",
    "    time.sleep(3)\n",
    "    select = Select(browser.find_element_by_id('ctl00_PageContent_GridViewPanelControl_DropDownList_PageSize'))\n",
    "    select.select_by_value('300')\n",
    "\n",
    "    time.sleep(4)\n",
    "    html_source = browser.page_source\n",
    "\n",
    "    browser.quit()\n",
    "\n",
    "    soup = BeautifulSoup(html_source,'html.parser')\n",
    "\n",
    "    #class \"postText\" is not defined in the source code\n",
    "    data_export = soup.findAll('td',{'class':['tabContent']})\n",
    "\n",
    "    return data_export\n",
    "\n",
    "\n",
    "\n"
   ]
  },
  {
   "cell_type": "markdown",
   "id": "373ba897",
   "metadata": {},
   "source": [
    "# Extract  Data"
   ]
  },
  {
   "cell_type": "code",
   "execution_count": 29,
   "id": "c10495e5",
   "metadata": {
    "ExecuteTime": {
     "end_time": "2021-08-23T14:39:17.933021Z",
     "start_time": "2021-08-23T14:39:17.928660Z"
    }
   },
   "outputs": [],
   "source": [
    "def data_import_export_extract(data):\n",
    "    \n",
    "    web = []\n",
    "    for item in data:\n",
    "        tdTags = item.find_all(\"tr\")\n",
    "    for item in tdTags:\n",
    "        asi = item.find_all(\"td\")\n",
    "        for asii in asi :\n",
    "                #print(no , asii.text)\n",
    "                #product_code.append(asii.text.strip())\n",
    "            web.append(asii.text.strip())\n",
    "    web = web[24:]\n",
    "    \n",
    "    return web\n"
   ]
  },
  {
   "cell_type": "code",
   "execution_count": 30,
   "id": "d7db7968",
   "metadata": {
    "ExecuteTime": {
     "end_time": "2021-08-23T14:39:20.958807Z",
     "start_time": "2021-08-23T14:39:20.950295Z"
    }
   },
   "outputs": [],
   "source": [
    "def insert_into_list(web):\n",
    "    m = len(web)\n",
    "    n =20\n",
    "\n",
    "    product_code =[]\n",
    "    product_label = []\n",
    "    value_2016 =[]\n",
    "    value_2017 =[]\n",
    "    value_2018 =[]\n",
    "    value_2019=[]\n",
    "    value_2020=[]\n",
    "\n",
    "    for i in range (0, m, n ):\n",
    "        #print(web[i])\n",
    "        product_code.append(web[i])\n",
    "        product_label.append(web[i+1])\n",
    "        value_2016.append(web[i+2])\n",
    "        value_2017.append(web[i+3])\n",
    "        value_2018.append(web[i+4])\n",
    "        value_2019.append(web[i+5])\n",
    "        value_2020.append(web[i+6])\n",
    "    \n",
    "    # make dataframe\n",
    "    kolom = ['product_code', 'product_label','2016','2017','2018','2019','2020']\n",
    "    df = pd.DataFrame(columns= kolom)\n",
    "    df['product_code'] = product_code\n",
    "    df['product_label'] = product_label\n",
    "    df['2016'] = value_2016\n",
    "    df['2017'] = value_2017\n",
    "    df['2018'] = value_2018\n",
    "    df['2019'] = value_2019\n",
    "    df['2020'] = value_2020\n",
    "    return df"
   ]
  },
  {
   "cell_type": "code",
   "execution_count": 31,
   "id": "7fc318b0",
   "metadata": {
    "ExecuteTime": {
     "end_time": "2021-08-23T14:39:27.421901Z",
     "start_time": "2021-08-23T14:39:27.416835Z"
    },
    "scrolled": true
   },
   "outputs": [],
   "source": [
    "def get_key(val):\n",
    "    for key, value in kode_negara.items():\n",
    "         if val == value:\n",
    "            return key"
   ]
  },
  {
   "cell_type": "markdown",
   "id": "f8913ef6",
   "metadata": {},
   "source": [
    "# For Data Importir "
   ]
  },
  {
   "cell_type": "code",
   "execution_count": null,
   "id": "5fa70166",
   "metadata": {},
   "outputs": [],
   "source": [
    "kolom = ['product_code', 'product_label','2016','2017','2018','2019','2020']\n",
    "data_importir = pd.DataFrame(columns= kolom)\n",
    "\n",
    "for kombinasi in kombinasi_negara:\n",
    "    negara = kombinasi[0]\n",
    "    partner = kombinasi[1]\n",
    "    nama_negara = get_key(negara)\n",
    "    nama_partner = get_key(partner)\n",
    "    data_import = extract_import(negara=negara, partner= partner)\n",
    "    web = data_import_export_extract(data_import)\n",
    "    df = insert_into_list(web)\n",
    "    df['importer'] = nama_negara  \n",
    "    df['exporter'] = nama_partner\n",
    "    data_importir = pd.concat([data_importir, df], ignore_index= True)\n",
    "    \n",
    "    \n",
    "# export to excel\n",
    "data_importir.to_excel('output.xlsx')\n",
    "#export to csv\n",
    "data_importir.to_csv('output.csv')\n"
   ]
  },
  {
   "cell_type": "markdown",
   "id": "58eb0ba6",
   "metadata": {},
   "source": [
    "# For Data Exportir"
   ]
  },
  {
   "cell_type": "code",
   "execution_count": null,
   "id": "64687698",
   "metadata": {},
   "outputs": [],
   "source": [
    "kolom = ['product_code', 'product_label','2016','2017','2018','2019','2020']\n",
    "data_exportir = pd.DataFrame(columns= kolom)\n",
    "\n",
    "for kombinasi in kombinasi_negara:\n",
    "    negara = kombinasi[0]\n",
    "    partner = kombinasi[1]\n",
    "    nama_negara = get_key(negara)\n",
    "    nama_partner = get_key(partner)\n",
    "    data_export = extract_export(negara=negara, partner= partner)\n",
    "    web = data_import_export_extract(data_export)\n",
    "    df = insert_into_list(web)\n",
    "    df['importer'] = nama_partner  \n",
    "    df['exporter'] = nama_negara\n",
    "    data_exportir = pd.concat([data_exportir, df], ignore_index= True)\n",
    "    \n",
    "    \n",
    "# export to excel\n",
    "data_exportir.to_excel('output.xlsx')\n",
    "#export to csv\n",
    "data_exportir.to_csv('output.csv')\n"
   ]
  }
 ],
 "metadata": {
  "kernelspec": {
   "display_name": "Python 3",
   "language": "python",
   "name": "python3"
  },
  "language_info": {
   "codemirror_mode": {
    "name": "ipython",
    "version": 3
   },
   "file_extension": ".py",
   "mimetype": "text/x-python",
   "name": "python",
   "nbconvert_exporter": "python",
   "pygments_lexer": "ipython3",
   "version": "3.7.7"
  },
  "toc": {
   "base_numbering": 1,
   "nav_menu": {},
   "number_sections": true,
   "sideBar": true,
   "skip_h1_title": false,
   "title_cell": "Table of Contents",
   "title_sidebar": "Contents",
   "toc_cell": false,
   "toc_position": {},
   "toc_section_display": true,
   "toc_window_display": false
  }
 },
 "nbformat": 4,
 "nbformat_minor": 5
}
