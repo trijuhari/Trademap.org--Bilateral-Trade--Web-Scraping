{
 "cells": [
  {
   "cell_type": "markdown",
   "id": "916c3e6f",
   "metadata": {
    "ExecuteTime": {
     "end_time": "2021-08-23T10:33:09.869510Z",
     "start_time": "2021-08-23T10:33:09.863023Z"
    }
   },
   "source": [
    "# Import  Library "
   ]
  },
  {
   "cell_type": "code",
   "execution_count": 21,
   "id": "d0e706bb",
   "metadata": {
    "ExecuteTime": {
     "end_time": "2021-08-23T14:38:10.477405Z",
     "start_time": "2021-08-23T14:38:10.472166Z"
    }
   },
   "outputs": [],
   "source": [
    "from selenium import webdriver\n",
    "from selenium.common.exceptions import NoSuchElementException\n",
    "from selenium.webdriver.common.keys import Keys\n",
    "from bs4 import BeautifulSoup\n",
    "from selenium.webdriver.support.ui import Select\n",
    "import time \n",
    "import pandas as pd \n",
    "from itertools import permutations\n"
   ]
  },
  {
   "cell_type": "markdown",
   "id": "fea4bb5f",
   "metadata": {},
   "source": [
    "# Get Country Code "
   ]
  },
  {
   "cell_type": "code",
   "execution_count": 22,
   "id": "ef4dcfe7",
   "metadata": {
    "ExecuteTime": {
     "end_time": "2021-08-23T14:38:23.771735Z",
     "start_time": "2021-08-23T14:38:13.164325Z"
    }
   },
   "outputs": [],
   "source": [
    "browser = webdriver.Firefox()\n",
    "browser.get('https://www.trademap.org/Bilateral_TS.aspx?nvpm=1|360||156||TOTAL|||2|1|1|1|2|1|1|1||1')\n",
    "html_source = browser.page_source\n",
    "browser.quit()\n",
    "\n",
    "soup = BeautifulSoup(html_source,'html.parser')\n",
    "#class \"postText\" is not defined in the source code\n",
    "comments = soup.findAll('option')\n",
    "\n",
    "kode = []\n",
    "dct= {}\n",
    "for option in soup.find_all('option'):\n",
    "    dct[option.text] = option['value']\n",
    "    kode.append(option['value'])\n",
    "kode = kode[113:366]\n",
    "\n",
    "kode_negara = {}\n",
    "for  key, value in dct.items():\n",
    "    if value in  kode:\n",
    "        kode_negara[key] = value\n",
    "        \n",
    " "
   ]
  },
  {
   "cell_type": "code",
   "execution_count": 23,
   "id": "9fd84f43",
   "metadata": {
    "ExecuteTime": {
     "end_time": "2021-08-23T14:38:29.076759Z",
     "start_time": "2021-08-23T14:38:29.072897Z"
    }
   },
   "outputs": [],
   "source": [
    "kombinasi_negara = []\n",
    "for  key, value in kode_negara.items():\n",
    "    kombinasi_negara.append(('360', value))\n",
    "    \n"
   ]
  },
  {
   "cell_type": "code",
   "execution_count": 24,
   "id": "47d3b0b7",
   "metadata": {
    "ExecuteTime": {
     "end_time": "2021-08-23T14:38:34.046140Z",
     "start_time": "2021-08-23T14:38:34.041339Z"
    }
   },
   "outputs": [
    {
     "name": "stdout",
     "output_type": "stream",
     "text": [
      "110\n"
     ]
    }
   ],
   "source": [
    "for val, i in enumerate(kombinasi_negara):\n",
    "    if i[0] == i[1]:\n",
    "        print(val)"
   ]
  },
  {
   "cell_type": "code",
   "execution_count": 25,
   "id": "0882ff7c",
   "metadata": {
    "ExecuteTime": {
     "end_time": "2021-08-23T14:38:38.784447Z",
     "start_time": "2021-08-23T14:38:38.780072Z"
    }
   },
   "outputs": [
    {
     "data": {
      "text/plain": [
       "('360', '360')"
      ]
     },
     "execution_count": 25,
     "metadata": {},
     "output_type": "execute_result"
    }
   ],
   "source": [
    "kombinasi_negara.pop(110)"
   ]
  },
  {
   "cell_type": "markdown",
   "id": "0f14b22b",
   "metadata": {},
   "source": [
    "# Get HTML  Importer  Data"
   ]
  },
  {
   "cell_type": "code",
   "execution_count": 27,
   "id": "78de43a0",
   "metadata": {
    "ExecuteTime": {
     "end_time": "2021-08-23T14:38:57.982504Z",
     "start_time": "2021-08-23T14:38:57.976891Z"
    }
   },
   "outputs": [],
   "source": [
    "def extract_import(negara, partner):\n",
    "\n",
    "    browser = webdriver.Firefox()\n",
    "    browser.get(f\"https://www.trademap.org/Bilateral_TS.aspx?nvpm=1|{negara}||{partner}||TOTAL|||2|1|1|1|2|1|1|1|1|1\")\n",
    "    time.sleep(3)\n",
    "    \n",
    "    select = Select(browser.find_element_by_id('ctl00_NavigationControl_DropDownList_ProductClusterLevel'))\n",
    "    select.select_by_value('4')\n",
    "\n",
    "    time.sleep(3)\n",
    "    select = Select(browser.find_element_by_id('ctl00_PageContent_GridViewPanelControl_DropDownList_NumTimePeriod'))\n",
    "    select.select_by_value('5')\n",
    "\n",
    "    time.sleep(3)\n",
    "    select = Select(browser.find_element_by_id('ctl00_PageContent_GridViewPanelControl_DropDownList_PageSize'))\n",
    "    select.select_by_value('300')\n",
    "    time.sleep(3)\n",
    "    html_source = []\n",
    "    jumlah_page = 0\n",
    "    html_source.append((browser.page_source))\n",
    "    jumlah_page +=1 \n",
    "    print (f\" Start Page {jumlah_page}...\")\n",
    "    \n",
    "    while True :\n",
    "        try :\n",
    "            WebDriverWait(browser, 20).until(EC.element_to_be_clickable((By.XPATH, \"//table[@id='ctl00_PageContent_MyGridView1']//table/tbody/tr//td/span//following::td[1]/a\"))).click()\n",
    "            html_source.append((browser.page_source))\n",
    "            jumlah_page +=1 \n",
    "            print (f\" Start Page {jumlah_page}...\")\n",
    "        except TimeoutException:\n",
    "            print(\"Finished \\n\")\n",
    "            break\n",
    "\n",
    "        \n",
    "    \n",
    "   \n",
    "\n",
    "\n",
    "    browser.quit()\n",
    "\n",
    "    \n",
    "\n",
    "    return html_source\n",
    "\n",
    "\n",
    "\n"
   ]
  },
  {
   "cell_type": "markdown",
   "id": "99b87774",
   "metadata": {},
   "source": [
    "# Get HTML Export Data"
   ]
  },
  {
   "cell_type": "code",
   "execution_count": 28,
   "id": "3b1cdecd",
   "metadata": {
    "ExecuteTime": {
     "end_time": "2021-08-23T14:39:10.871240Z",
     "start_time": "2021-08-23T14:39:10.865476Z"
    }
   },
   "outputs": [],
   "source": [
    "def extract_export(negara, partner ):\n",
    "\n",
    "    browser = webdriver.Firefox()\n",
    "    browser.get(f\"https://www.trademap.org/Bilateral_TS.aspx?nvpm=1|{negara}||{partner}||TOTAL|||2|1|1|2|2|1|1|1|1|1\")\n",
    "    time.sleep(3)\n",
    "    \n",
    "    select = Select(browser.find_element_by_id('ctl00_NavigationControl_DropDownList_ProductClusterLevel'))\n",
    "    select.select_by_value('4')\n",
    "\n",
    "    time.sleep(3)\n",
    "    select = Select(browser.find_element_by_id('ctl00_PageContent_GridViewPanelControl_DropDownList_NumTimePeriod'))\n",
    "    select.select_by_value('5')\n",
    "\n",
    "    time.sleep(3)\n",
    "    select = Select(browser.find_element_by_id('ctl00_PageContent_GridViewPanelControl_DropDownList_PageSize'))\n",
    "    select.select_by_value('300')\n",
    "    time.sleep(3)\n",
    "    html_source = []\n",
    "    jumlah_page = 0\n",
    "    html_source.append((browser.page_source))\n",
    "    jumlah_page +=1 \n",
    "    print (f\" Start Page {jumlah_page}...\")\n",
    "    \n",
    "    while True :\n",
    "        try :\n",
    "            WebDriverWait(browser, 20).until(EC.element_to_be_clickable((By.XPATH, \"//table[@id='ctl00_PageContent_MyGridView1']//table/tbody/tr//td/span//following::td[1]/a\"))).click()\n",
    "            html_source.append((browser.page_source))\n",
    "            jumlah_page +=1 \n",
    "            print (f\" Start Page {jumlah_page}...\")\n",
    "        except TimeoutException:\n",
    "            print(\"Finished \\n\")\n",
    "            break\n",
    "    browser.quit()\n",
    "    return html_source\n"
   ]
  },
  {
   "cell_type": "markdown",
   "id": "26fc0733",
   "metadata": {},
   "source": [
    "# Extract  Data"
   ]
  },
  {
   "cell_type": "code",
   "execution_count": 29,
   "id": "30a01cd2",
   "metadata": {
    "ExecuteTime": {
     "end_time": "2021-08-23T14:39:17.933021Z",
     "start_time": "2021-08-23T14:39:17.928660Z"
    }
   },
   "outputs": [],
   "source": [
    "def data_import_export_extract(data):\n",
    "    \n",
    "    web = []\n",
    "    for item in data:\n",
    "        tdTags = item.find_all(\"tr\")\n",
    "    for item in tdTags:\n",
    "        asi = item.find_all(\"td\")\n",
    "        for asii in asi :\n",
    "                #print(no , asii.text)\n",
    "                #product_code.append(asii.text.strip())\n",
    "            web.append(asii.text.strip())\n",
    "    web = web[24:]\n",
    "    \n",
    "    return web\n"
   ]
  },
  {
   "cell_type": "code",
   "execution_count": 30,
   "id": "76458a8f",
   "metadata": {
    "ExecuteTime": {
     "end_time": "2021-08-23T14:39:20.958807Z",
     "start_time": "2021-08-23T14:39:20.950295Z"
    }
   },
   "outputs": [],
   "source": [
    "def insert_into_list(web):\n",
    "    m = len(web)\n",
    "    n =20\n",
    "\n",
    "    product_code =[]\n",
    "    product_label = []\n",
    "    value_2016 =[]\n",
    "    value_2017 =[]\n",
    "    value_2018 =[]\n",
    "    value_2019=[]\n",
    "    value_2020=[]\n",
    "\n",
    "    for i in range (11, m, n ):\n",
    "        #print(web[i])\n",
    "        product_code.append(web[i])\n",
    "        product_label.append(web[i+1])\n",
    "        value_2016.append(web[i+2])\n",
    "        value_2017.append(web[i+3])\n",
    "        value_2018.append(web[i+4])\n",
    "        value_2019.append(web[i+5])\n",
    "        value_2020.append(web[i+6])\n",
    "    \n",
    "    # make dataframe\n",
    "    kolom = ['product_code', 'product_label','2016','2017','2018','2019','2020']\n",
    "    df = pd.DataFrame(columns= kolom)\n",
    "    df['product_code'] = product_code\n",
    "    df['product_label'] = product_label\n",
    "    df['2016'] = value_2016\n",
    "    df['2017'] = value_2017\n",
    "    df['2018'] = value_2018\n",
    "    df['2019'] = value_2019\n",
    "    df['2020'] = value_2020\n",
    "    return df"
   ]
  },
  {
   "cell_type": "code",
   "execution_count": 31,
   "id": "b50fe296",
   "metadata": {
    "ExecuteTime": {
     "end_time": "2021-08-23T14:39:27.421901Z",
     "start_time": "2021-08-23T14:39:27.416835Z"
    },
    "scrolled": true
   },
   "outputs": [],
   "source": [
    "def get_key(val):\n",
    "    for key, value in kode_negara.items():\n",
    "         if val == value:\n",
    "            return key"
   ]
  },
  {
   "cell_type": "markdown",
   "id": "c4f967cc",
   "metadata": {},
   "source": [
    "# For Data Importir "
   ]
  },
  {
   "cell_type": "code",
   "execution_count": null,
   "id": "b8aca7b5",
   "metadata": {
    "ExecuteTime": {
     "end_time": "2021-09-21T01:14:46.710984Z",
     "start_time": "2021-09-21T01:14:46.694586Z"
    }
   },
   "outputs": [],
   "source": [
    "kolom = ['product_code', 'product_label','2016','2017','2018','2019','2020']\n",
    "data_importir = pd.DataFrame(columns= kolom)\n",
    "\n",
    "for i,kombinasi in enumeratenum(kombinasi_negara,1):\n",
    "    print(f\"{i}/{len(kombinasi_negara)} Started\")\n",
    "    negara = kombinasi[0]\n",
    "    partner = kombinasi[1]\n",
    "    nama_negara = get_key(negara)\n",
    "    nama_partner = get_key(partner)    \n",
    "    data_import = extract_import(negara=negara, partner= partner )\n",
    "    for data in data_import:\n",
    "        web = data_import_export_extract(data)\n",
    "        df = insert_into_list(web)\n",
    "        df['importer'] = nama_negara  \n",
    "        df['exporter'] = nama_partner\n",
    "        data_importir = pd.concat([data_importir, df], ignore_index= True)\n",
    "        data_importir = data_importir[data_importir.product_code != \"1\" ] \n",
    "        data_importir = data_importir.reset_index(drop=True) \n",
    "    \n",
    "    \n",
    "# export to excel\n",
    "data_importir.to_excel('output.xlsx')\n",
    "#export to csv\n",
    "data_importir.to_csv('output.csv')\n"
   ]
  },
  {
   "cell_type": "markdown",
   "id": "65d92528",
   "metadata": {},
   "source": [
    "# For Data Exportir"
   ]
  },
  {
   "cell_type": "code",
   "execution_count": null,
   "id": "b092cf13",
   "metadata": {},
   "outputs": [],
   "source": [
    "kolom = ['product_code', 'product_label','2016','2017','2018','2019','2020']\n",
    "data_exportir = pd.DataFrame(columns= kolom)\n",
    "\n",
    "for i,kombinasi in enumeratenum(kombinasi_negara,1):\n",
    "    print(f\"{i}/{len(kombinasi_negara)} Started\")\n",
    "    negara = kombinasi[0]\n",
    "    partner = kombinasi[1]\n",
    "    nama_negara = get_key(negara)\n",
    "    nama_partner = get_key(partner)    \n",
    "    data_export = extract_export(negara=negara, partner= partner)\n",
    "    for data in data_export:\n",
    "        web = data_import_export_extract(data)\n",
    "        df = insert_into_list(web)\n",
    "        df['importer'] = nama_partner  \n",
    "        df['exporter'] = nama_negara\n",
    "        data_exportir = pd.concat([data_exportir, df], ignore_index= True)\n",
    "        data_exportir = data_exportir[data_exportir.product_code != \"1\" ] \n",
    "        data_exportir = data_exportir.reset_index(drop=True) \n",
    "    \n",
    "\n",
    "# export to excel\n",
    "data_exportir.to_excel('output.xlsx')\n",
    "#export to csv\n",
    "data_exportir.to_csv('output.csv')\n"
   ]
  }
 ],
 "metadata": {
  "kernelspec": {
   "display_name": "Python 3",
   "language": "python",
   "name": "python3"
  },
  "language_info": {
   "codemirror_mode": {
    "name": "ipython",
    "version": 3
   },
   "file_extension": ".py",
   "mimetype": "text/x-python",
   "name": "python",
   "nbconvert_exporter": "python",
   "pygments_lexer": "ipython3",
   "version": "3.7.7"
  },
  "toc": {
   "base_numbering": 1,
   "nav_menu": {},
   "number_sections": true,
   "sideBar": true,
   "skip_h1_title": false,
   "title_cell": "Table of Contents",
   "title_sidebar": "Contents",
   "toc_cell": false,
   "toc_position": {},
   "toc_section_display": true,
   "toc_window_display": false
  }
 },
 "nbformat": 4,
 "nbformat_minor": 5
}
